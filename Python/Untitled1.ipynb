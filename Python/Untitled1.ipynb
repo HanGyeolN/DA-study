{
 "cells": [
  {
   "cell_type": "code",
   "execution_count": 3,
   "metadata": {},
   "outputs": [],
   "source": [
    "import numpy as np\n",
    "import random"
   ]
  },
  {
   "cell_type": "code",
   "execution_count": 6,
   "metadata": {
    "scrolled": true
   },
   "outputs": [
    {
     "name": "stdout",
     "output_type": "stream",
     "text": [
      "0.45628137267268554\n",
      "0.5523440608417954\n"
     ]
    }
   ],
   "source": [
    "data = np.random.randn(2,3)\n",
    "dataList = [ [random.random() for _ in range(3)] for _ in range(2) ]\n",
    "print(data[0][1])\n",
    "print(dataList[0][1])"
   ]
  },
  {
   "cell_type": "code",
   "execution_count": 14,
   "metadata": {},
   "outputs": [
    {
     "name": "stdout",
     "output_type": "stream",
     "text": [
      "0.45628137267268554\n",
      "[[10 20]\n",
      " [30 40]]\n",
      "[[1 2]\n",
      " [3 4]]\n",
      "A+B List:\n",
      "[[10, 20], [30, 40], [1, 2], [3, 4]]\n",
      "A+B Array:\n",
      "[[11 22]\n",
      " [33 44]]\n"
     ]
    }
   ],
   "source": [
    "# 1. 행렬 연산 비교 (리스트, 넘파이)\n",
    "\n",
    "print(data[0,1])\n",
    "#dataList[0,1]\n",
    "A = [[10,20],[30,40]]\n",
    "B = [[1,2],[3,4]]\n",
    "\n",
    "AA = np.array(A)\n",
    "BB = np.array(B)\n",
    "\n",
    "print(AA)\n",
    "print(BB)\n",
    "\n",
    "print(\"A+B List: 행렬 연산 불가\")\n",
    "print(A+B)\n",
    "print(\"A+B Array: 행렬 연산 가능\")\n",
    "print(AA+BB)"
   ]
  },
  {
   "cell_type": "code",
   "execution_count": 20,
   "metadata": {},
   "outputs": [
    {
     "name": "stdout",
     "output_type": "stream",
     "text": [
      "(3,)\n",
      "1\n"
     ]
    },
    {
     "data": {
      "text/plain": [
       "array([ 4, 10, 18])"
      ]
     },
     "execution_count": 20,
     "metadata": {},
     "output_type": "execute_result"
    }
   ],
   "source": [
    "#2. shape, ndim\n",
    "\n",
    "# vector = 1차원 배열\n",
    "# matrix = 2차원 배열\n",
    "v1 = np.array([1,2,3])\n",
    "v2 = np.array([4,5,6])\n",
    "print(v1.shape)\n",
    "print(v1.ndim)\n",
    "\n",
    "\n",
    "v1+v2\n",
    "v1*v2"
   ]
  },
  {
   "cell_type": "code",
   "execution_count": 21,
   "metadata": {},
   "outputs": [
    {
     "name": "stdout",
     "output_type": "stream",
     "text": [
      "data\n",
      "[[ 0.15942362  0.45628137 -0.68027968]\n",
      " [ 0.11724499 -0.27593376 -1.39825929]]\n",
      "data.reshape()\n",
      "[[ 0.15942362  0.45628137]\n",
      " [-0.68027968  0.11724499]\n",
      " [-0.27593376 -1.39825929]]\n"
     ]
    }
   ],
   "source": [
    "#3. 형변환\n",
    "print(\"data\")\n",
    "print(data)\n",
    "print(\"data.reshape()\")\n",
    "print(data.reshape(3,2))"
   ]
  },
  {
   "cell_type": "code",
   "execution_count": 25,
   "metadata": {},
   "outputs": [
    {
     "name": "stdout",
     "output_type": "stream",
     "text": [
      "[[10 20]\n",
      " [30 40]] [[1 2]\n",
      " [3 4]] [[ 10  40]\n",
      " [ 90 160]]\n",
      "대수곱셈\n",
      "[[ 10  40]\n",
      " [ 90 160]]\n",
      "행렬곱\n",
      "[[ 70 100]\n",
      " [150 220]]\n"
     ]
    }
   ],
   "source": [
    "#4. 행렬 연산\n",
    "A = np.array([[10,20],[30,40]])\n",
    "B = np.array([[1,2],[3,4]])\n",
    "\n",
    "\n",
    "print(\"대수곱셈\")\n",
    "print(A*B)\n",
    "print(\"행렬곱\")\n",
    "print(np.dot(A,B))"
   ]
  },
  {
   "cell_type": "code",
   "execution_count": 27,
   "metadata": {},
   "outputs": [
    {
     "name": "stdout",
     "output_type": "stream",
     "text": [
      "[[20 40]\n",
      " [60 80]]\n",
      "[[ 30  60]\n",
      " [ 90 120]]\n"
     ]
    }
   ],
   "source": [
    "# 5.BroadCasting\n",
    "\n",
    "print(A*2)\n",
    "print(A*3)"
   ]
  },
  {
   "cell_type": "code",
   "execution_count": 46,
   "metadata": {},
   "outputs": [
    {
     "name": "stdout",
     "output_type": "stream",
     "text": [
      "[10 20 30 40 50 60]\n",
      "B2\n",
      "[[10 20 30]\n",
      " [40 50 60]]\n",
      "B2 0열 모든행\n",
      "[10 40] \n",
      "\n",
      "[[11111    20    30]\n",
      " [   40    50    60]] B2도 바뀜\n",
      "[[123456     20     30]\n",
      " [    40     50     60]]\n",
      "[[11111    20    30]\n",
      " [   40    50    60]]\n"
     ]
    }
   ],
   "source": [
    "# 6.Slicing\n",
    "list1 = [n for n in range(10,70,10)]\n",
    "A2 = np.array(list1)\n",
    "print(A2)\n",
    "\n",
    "# 변환\n",
    "B2 = A2.reshape(2,3)\n",
    "print(\"B2\")\n",
    "print(B2)\n",
    "\n",
    "# 선택\n",
    "print(\"B2 0열 모든행\")\n",
    "print(B2[:,0],\"\\n\")\n",
    "\n",
    "# 메모리 공유(주의)\n",
    "C1 = B2\n",
    "C1[0,0] = 11111\n",
    "print(B2, \"B2도 바뀜\")\n",
    "\n",
    "# 복사\n",
    "C2 = B2.copy()\n",
    "C2[0,0] = 123456\n",
    "print(C2)\n",
    "print(B2)\n"
   ]
  },
  {
   "cell_type": "code",
   "execution_count": 41,
   "metadata": {},
   "outputs": [
    {
     "name": "stdout",
     "output_type": "stream",
     "text": [
      "[[10 20 30 40]\n",
      " [50 60 70 80]] AA \n",
      "\n",
      "10\n",
      "20\n",
      "30\n",
      "40\n",
      "50\n",
      "60\n",
      "70\n",
      "80\n"
     ]
    }
   ],
   "source": [
    "# 리스트 -> 행렬 -> 변환\n",
    "list2 = [ n for n in range(10, 90, 10) ]\n",
    "AA = np.array(list2).reshape(2,4)\n",
    "print(AA,\"AA \\n\")\n",
    "\n",
    "# 이터레이트 생성 (순회용)\n",
    "iterator = np.nditer(AA, flags=['multi_index'], op_flags=['readwrite'])\n",
    "\n",
    "# ** 이터레이터 기본 구문 \n",
    "while not iterator.finished:\n",
    "    idx = iterator.multi_index\n",
    "    print(AA[idx])\n",
    "    iterator.iternext()\n",
    "# 실전에선 iterator를 사용하면 속도가 느려짐.\n",
    "# 브로드 캐스팅등이 가장 빠름 "
   ]
  },
  {
   "cell_type": "code",
   "execution_count": 58,
   "metadata": {},
   "outputs": [
    {
     "name": "stdout",
     "output_type": "stream",
     "text": [
      "[[10 20 30 40]\n",
      " [50 60 70 80]] AA\n",
      "[[10 20 30 40]\n",
      " [50 60 70 80]\n",
      " [ 1  2  3  4]] \n",
      "\n",
      "[[ 10  20  30  40]\n",
      " [ 50  60  70  80]\n",
      " [  1   2   3   4]\n",
      " [100 200 300 400]] \n",
      "\n"
     ]
    }
   ],
   "source": [
    "# matrix 붙이기 axis =0 -> 밑에 axis = 1 -> 옆에\n",
    "BB = np.array([1,2,3,4])\n",
    "BB = BB.reshape(1,4)\n",
    "CC = np.concatenate((AA,BB), axis=0)\n",
    "print(CC, \"\\n\")\n",
    "\n",
    "# 여러개도 가능\n",
    "CC = np.array([100, 200, 300, 400])\n",
    "CC = CC.reshape(1,4)\n",
    "DD = np.concatenate((AA,BB,CC), axis=0)\n",
    "print(DD,\"\\n\")\n",
    "\n",
    "\n"
   ]
  },
  {
   "cell_type": "code",
   "execution_count": 71,
   "metadata": {},
   "outputs": [
    {
     "name": "stdout",
     "output_type": "stream",
     "text": [
      "[109 113 103 109 103] <class 'numpy.ndarray'>\n",
      "[[109]\n",
      " [113]\n",
      " [103]\n",
      " [109]\n",
      " [103]] <class 'numpy.ndarray'>\n"
     ]
    },
    {
     "ename": "TypeError",
     "evalue": "'float' object cannot be interpreted as an integer",
     "output_type": "error",
     "traceback": [
      "\u001b[1;31m---------------------------------------------------------------------------\u001b[0m",
      "\u001b[1;31mTypeError\u001b[0m                                 Traceback (most recent call last)",
      "\u001b[1;32m<ipython-input-71-7590d73bef83>\u001b[0m in \u001b[0;36m<module>\u001b[1;34m\u001b[0m\n\u001b[0;32m     11\u001b[0m \u001b[0mprint\u001b[0m\u001b[1;33m(\u001b[0m\u001b[0mrows\u001b[0m\u001b[1;33m[\u001b[0m\u001b[1;36m0\u001b[0m\u001b[1;33m:\u001b[0m\u001b[1;36m5\u001b[0m\u001b[1;33m]\u001b[0m\u001b[1;33m,\u001b[0m\u001b[0mtype\u001b[0m\u001b[1;33m(\u001b[0m\u001b[0mrows\u001b[0m\u001b[1;33m)\u001b[0m\u001b[1;33m)\u001b[0m\u001b[1;33m\u001b[0m\u001b[1;33m\u001b[0m\u001b[0m\n\u001b[0;32m     12\u001b[0m \u001b[1;33m\u001b[0m\u001b[0m\n\u001b[1;32m---> 13\u001b[1;33m \u001b[0mnp\u001b[0m\u001b[1;33m.\u001b[0m\u001b[0mzeros\u001b[0m\u001b[1;33m(\u001b[0m\u001b[1;33m[\u001b[0m\u001b[1;36m2.3\u001b[0m\u001b[1;33m]\u001b[0m\u001b[1;33m,\u001b[0m \u001b[0mdtype\u001b[0m\u001b[1;33m=\u001b[0m\u001b[0mnp\u001b[0m\u001b[1;33m.\u001b[0m\u001b[0muint8\u001b[0m\u001b[1;33m)\u001b[0m\u001b[1;33m\u001b[0m\u001b[1;33m\u001b[0m\u001b[0m\n\u001b[0m\u001b[0;32m     14\u001b[0m \u001b[1;33m\u001b[0m\u001b[0m\n\u001b[0;32m     15\u001b[0m \u001b[1;33m\u001b[0m\u001b[0m\n",
      "\u001b[1;31mTypeError\u001b[0m: 'float' object cannot be interpreted as an integer"
     ]
    }
   ],
   "source": [
    "# 파일 불러오기\n",
    "data = np.loadtxt(\"C:/images/csv/cat02.csv\", delimiter=\",\", dtype=np.int32)\n",
    "# delimiter = 구분자, dtype = 받아올 타입\n",
    "\n",
    "# 특정 값 가져오기\n",
    "rows = data[:,2] # 모든 행의 2번째 열(픽셀) 값\n",
    "print(rows[0:5],type(rows))\n",
    "\n",
    "# 모양 그대로 가져오기\n",
    "rows = data[:,2:3] \n",
    "print(rows[0:5],type(rows))\n",
    "\n",
    "\n",
    "\n",
    "\n"
   ]
  },
  {
   "cell_type": "code",
   "execution_count": 73,
   "metadata": {},
   "outputs": [
    {
     "data": {
      "text/plain": [
       "array([[0, 0, 0],\n",
       "       [0, 0, 0]], dtype=uint8)"
      ]
     },
     "execution_count": 73,
     "metadata": {},
     "output_type": "execute_result"
    }
   ],
   "source": [
    "np.zeros([2,3], dtype=np.uint8)"
   ]
  },
  {
   "cell_type": "code",
   "execution_count": null,
   "metadata": {},
   "outputs": [],
   "source": []
  },
  {
   "cell_type": "code",
   "execution_count": null,
   "metadata": {},
   "outputs": [],
   "source": []
  },
  {
   "cell_type": "code",
   "execution_count": null,
   "metadata": {},
   "outputs": [],
   "source": []
  },
  {
   "cell_type": "code",
   "execution_count": null,
   "metadata": {},
   "outputs": [],
   "source": []
  },
  {
   "cell_type": "code",
   "execution_count": null,
   "metadata": {},
   "outputs": [],
   "source": []
  },
  {
   "cell_type": "code",
   "execution_count": null,
   "metadata": {},
   "outputs": [],
   "source": []
  },
  {
   "cell_type": "code",
   "execution_count": null,
   "metadata": {},
   "outputs": [],
   "source": []
  },
  {
   "cell_type": "code",
   "execution_count": null,
   "metadata": {},
   "outputs": [],
   "source": []
  },
  {
   "cell_type": "code",
   "execution_count": null,
   "metadata": {},
   "outputs": [],
   "source": []
  },
  {
   "cell_type": "code",
   "execution_count": null,
   "metadata": {},
   "outputs": [],
   "source": []
  },
  {
   "cell_type": "code",
   "execution_count": null,
   "metadata": {},
   "outputs": [],
   "source": []
  },
  {
   "cell_type": "code",
   "execution_count": null,
   "metadata": {},
   "outputs": [],
   "source": [
    "\n",
    "\n",
    "\n",
    "\n",
    "\n",
    "\n",
    "\n",
    "\n",
    "\n",
    "\n",
    "\n",
    "\n",
    "\n",
    "\n",
    "\n",
    "\n",
    "\n",
    "\n",
    "\n",
    "\n",
    "\n",
    "\n",
    "\n",
    "\n",
    "\n",
    "\n",
    "\n",
    "\n",
    "\n",
    "\n",
    "\n",
    "\n",
    "\n",
    "\n",
    "\n",
    "\n",
    "\n",
    "\n",
    "\n",
    "\n",
    "\n",
    "\n",
    "\n",
    "\n",
    "\n",
    "\n",
    "\n",
    "\n",
    "\n",
    "\n"
   ]
  }
 ],
 "metadata": {
  "kernelspec": {
   "display_name": "Python 3",
   "language": "python",
   "name": "python3"
  },
  "language_info": {
   "codemirror_mode": {
    "name": "ipython",
    "version": 3
   },
   "file_extension": ".py",
   "mimetype": "text/x-python",
   "name": "python",
   "nbconvert_exporter": "python",
   "pygments_lexer": "ipython3",
   "version": "3.7.3"
  }
 },
 "nbformat": 4,
 "nbformat_minor": 2
}
