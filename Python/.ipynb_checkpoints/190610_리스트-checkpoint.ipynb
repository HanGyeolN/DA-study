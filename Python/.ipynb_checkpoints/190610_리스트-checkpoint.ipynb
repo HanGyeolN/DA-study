{
 "cells": [
  {
   "cell_type": "code",
   "execution_count": 11,
   "metadata": {},
   "outputs": [
    {
     "name": "stdout",
     "output_type": "stream",
     "text": [
      "원 영상 :  [67, 84, 42, 75]\n",
      "영상 평균 :  67.0\n"
     ]
    }
   ],
   "source": [
    "# 04-02 리스트 4.py\n",
    "import random\n",
    "# 1. 메모리 확보 (C나 다른 언어와 호환이 쉽도록 코드작성하기)\n",
    "SIZE = 4\n",
    "aa = []\n",
    "for i in range(SIZE):\n",
    "    aa.append(0)\n",
    "    \n",
    "# 2. 메모리에 필요한 값 대입 (파일 읽기)\n",
    "for i in range(SIZE):\n",
    "    num = random.randint(0,99)\n",
    "    aa[i] = num\n",
    "    \n",
    "# 3. 메모리 처리/ 조작/ 연산 (알고리즘)\n",
    "sum = 0\n",
    "\n",
    "for i in range(SIZE):\n",
    "    sum += aa[i]\n",
    "\n",
    "avg = sum / SIZE\n",
    "print(\"원 영상 : \", aa)\n",
    "print(\"영상 평균 : \", avg)"
   ]
  },
  {
   "cell_type": "code",
   "execution_count": 12,
   "metadata": {},
   "outputs": [
    {
     "name": "stdout",
     "output_type": "stream",
     "text": [
      "원 영상 :  [97, 69, 47, 17, 40, 78, 34, 88, 29, 57]\n",
      "처리 후 :  [99, 79, 57, 27, 50, 88, 44, 98, 39, 67]\n"
     ]
    }
   ],
   "source": [
    "# Quiz\n",
    "# 1. 10 크기의 영상 데이터를 랜덤하게 준비한 후, 영상에 밝기를 더한다. (+10)\n",
    "import random\n",
    "\n",
    "SIZE = 10\n",
    "aa = []\n",
    "for i in range(SIZE):\n",
    "    aa.append(0)\n",
    "\n",
    "for i in range(SIZE):\n",
    "    aa[i] = random.randint(0,99)\n",
    "print(\"원 영상 : \", aa)\n",
    "    \n",
    "for i in range(SIZE):\n",
    "    aa[i] += 10\n",
    "    if aa[i] > 99: # overflow 처리 (0~99 사이로)\n",
    "        aa[i] = 99\n",
    "print(\"처리 후 : \", aa)\n"
   ]
  },
  {
   "cell_type": "code",
   "execution_count": 19,
   "metadata": {},
   "outputs": [
    {
     "name": "stdout",
     "output_type": "stream",
     "text": [
      "[99, 57, 50, 44, 39] 2칸씩 건너뛰기\n",
      "[67, 39, 98, 44, 88, 50, 27, 57, 79, 99] reverse\n"
     ]
    }
   ],
   "source": [
    "# list 참조하기\n",
    "aa[1] # 값\n",
    "aa[1:2] # 리스트\n",
    "aa[-1] \n",
    "\n",
    "print(aa[::2], '2칸씩 건너뛰기')\n",
    "print(aa[::-1], 'reverse') # reverse도 사용 \n",
    "\n",
    "# 값 끼워넣기\n",
    "aa[3:4] = [11, 22, 11]\n",
    "\n",
    "# 소멸시키기  (대용량에선 고민해야한다.)\n",
    "aa = None # 메모리 해제\n"
   ]
  },
  {
   "cell_type": "code",
   "execution_count": 10,
   "metadata": {},
   "outputs": [
    {
     "name": "stdout",
     "output_type": "stream",
     "text": [
      "orig:  [63, 33, 27, 19, 69, 89, 35, 67, 8, 82]\n",
      "apnd:  [63, 33, 27, 19, 69, 89, 35, 67, 8, 82, 1234]\n",
      "pop :  [33, 27, 19, 69, 89, 35, 67, 8, 82, 1234]\n",
      "sort:  [1234, 89, 82, 69, 67, 35, 33, 27, 19, 8]\n"
     ]
    },
    {
     "data": {
      "text/plain": [
       "0"
      ]
     },
     "execution_count": 10,
     "metadata": {},
     "output_type": "execute_result"
    }
   ],
   "source": [
    "# [☆] 리스트 조작함수\n",
    "import random\n",
    "\n",
    "# 자주 사용하는 리스트 생성법\n",
    "myList = [random.randint(0,99) for _ in range(10)]\n",
    "print('orig: ', myList)\n",
    "\n",
    "\n",
    "# append(push) pop sort reverse index insert \n",
    "myList.append(1234)\n",
    "print('apnd: ', myList)\n",
    "\n",
    "myList.pop(0)\n",
    "print('pop : ', myList)\n",
    "\n",
    "myList.sort(reverse=True)\n",
    "print('sort: ', myList)\n",
    "\n",
    "myList.index(1234)"
   ]
  },
  {
   "cell_type": "code",
   "execution_count": 22,
   "metadata": {},
   "outputs": [
    {
     "name": "stdout",
     "output_type": "stream",
     "text": [
      "[2, 1, 1, 4, 5, 3, 5, 3, 5, 4]\n",
      "4\n",
      "6\n",
      "8\n"
     ]
    }
   ],
   "source": [
    "# 리스트 조작함수1\n",
    "# 목표: 리스트 안에 FIND 값이 있는 INDEX를 받기\n",
    "\n",
    "import random\n",
    "myList = [ random.randint(1,5) for _ in range(10) ]\n",
    "\n",
    "FIND = 5\n",
    "\n",
    "print(myList)\n",
    "n=0\n",
    "\n",
    "for i in range(myList.count(FIND)):\n",
    "    index = myList.index(FIND, n)\n",
    "    print(n)\n",
    "    n +=1\n",
    "\n"
   ]
  },
  {
   "cell_type": "code",
   "execution_count": null,
   "metadata": {},
   "outputs": [],
   "source": [
    "# 리스트 조작함수 2\n",
    "# 목표: 리스트 안에 FIND 값이 있는 INDEX를 받기\n",
    "\n",
    "import random\n",
    "myList = [ random.randint(1,5) for _ in range(10) ]\n",
    "\n",
    "FIND = 5\n",
    "\n",
    "print(myList)\n",
    "n=0\n",
    "\n",
    "while True:\n",
    "    try :\n",
    "        n = myList.index(FIND, n) # n번째에서 부터 찾는다.\n",
    "        print(n)\n",
    "        n += 1\n",
    "    except :\n",
    "        break"
   ]
  },
  {
   "cell_type": "code",
   "execution_count": null,
   "metadata": {},
   "outputs": [],
   "source": [
    "myList = [1,3,3,1]\n",
    "\n",
    "myList.clear()\n",
    "\n",
    "del myList[0] \n",
    "# 사용시 주의: 뒤에 값들이 땡겨진다.\n",
    "\n"
   ]
  },
  {
   "cell_type": "code",
   "execution_count": 24,
   "metadata": {},
   "outputs": [
    {
     "name": "stdout",
     "output_type": "stream",
     "text": [
      "myList :  [1, 2, 3, 100]\n"
     ]
    }
   ],
   "source": [
    "# [☆] 리스트 복사시 주의할점\n",
    "myList = [1,2,3]\n",
    "\n",
    "newList = myList\n",
    "\n",
    "newList.append(100)\n",
    "\n",
    "print('myList : ', myList) \n",
    "# newList가 myList와 메모리를 공유하기 때문에 copy를 해야한다.\n",
    "\n",
    "# copy방법 2가지\n",
    "newList = myList.copy()\n",
    "newList2 = myList[:]"
   ]
  },
  {
   "cell_type": "code",
   "execution_count": 32,
   "metadata": {},
   "outputs": [
    {
     "name": "stdout",
     "output_type": "stream",
     "text": [
      "176 189 232 151 \n",
      "227 254  60  52 \n",
      "230 211 155 153 \n"
     ]
    }
   ],
   "source": [
    "# [☆] 2차원 리스트\n",
    "\n",
    "import random\n",
    "\n",
    "image = [[0,0,0,0], \n",
    "         [0,0,0,0], \n",
    "         [0,0,0,0]]\n",
    "\n",
    "for i in range(len(image)):\n",
    "    for k in range(len(image[0])):\n",
    "        image[i][k] = random.randint(0,255)\n",
    "\n",
    "\n",
    "        for i in range(len(image)):\n",
    "    for k in range(len(image[0])):\n",
    "        print(\"%3d \" % (image[i][k]), end ='')\n",
    "    print()\n"
   ]
  },
  {
   "cell_type": "code",
   "execution_count": 34,
   "metadata": {},
   "outputs": [
    {
     "name": "stdout",
     "output_type": "stream",
     "text": [
      "  0   0   0   0   0   0   0   0   0   0 \n",
      "  0   0   0   0   0   0   0   0   0   0 \n",
      "  0   0   0   0   0   0   0   0   0   0 \n",
      "  0   0   0   0   0   0   0   0   0   0 \n",
      "  0   0   0   0   0   0   0   0   0   0 \n",
      "  0   0   0   0   0   0   0   0   0   0 \n",
      "  0   0   0   0   0   0   0   0   0   0 \n",
      "  0   0   0   0   0   0   0   0   0   0 \n",
      "  0   0   0   0   0   0   0   0   0   0 \n",
      "  0   0   0   0   0   0   0   0   0   0 \n"
     ]
    }
   ],
   "source": [
    "# 1. 초기화\n",
    "ROW, COL = 10, 10\n",
    "\n",
    "image = []\n",
    "temp = []\n",
    "\n",
    "for i in range(ROW) :\n",
    "    temp = []\n",
    "    for k in range(COL) :\n",
    "        temp.append(0)\n",
    "    image.append(temp)\n",
    "\n",
    "for i in range(len(image)):\n",
    "    for k in range(len(image[0])):\n",
    "        print(\"%3d \" % (image[i][k]), end ='')\n",
    "    print()"
   ]
  },
  {
   "cell_type": "code",
   "execution_count": 38,
   "metadata": {},
   "outputs": [
    {
     "name": "stdout",
     "output_type": "stream",
     "text": [
      "{1: '하나', 2: '둘', 3: '셋'}\n",
      "{1: '하나', 2: '둘', 3: '셋', 0: '빵', '사': 4}\n",
      "dict_keys([1, 2, 3, 0, '사'])\n",
      "dict_values(['하나', '둘', '셋', '빵', 4])\n"
     ]
    }
   ],
   "source": [
    "# 튜플 = 읽기전용 리스트 \n",
    "# 딕셔너리 = 키는 중복 x, 순서x\n",
    "\n",
    "myDic = { 1:\"하나\", 2:\"둘\", 3:\"셋\"}\n",
    "print(myDic)\n",
    "myDic[0] = \"빵\"\n",
    "\n",
    "myDic['사'] = 4\n",
    "print(myDic)\n",
    "\n",
    "# 딕셔너리에서 자주 사용하는 함수\n",
    "print(myDic.keys())\n",
    "print(myDic.values())\n"
   ]
  },
  {
   "cell_type": "code",
   "execution_count": 44,
   "metadata": {},
   "outputs": [
    {
     "name": "stdout",
     "output_type": "stream",
     "text": [
      "[('토마스', 17), ('헨리', 8), ('에드워드', 10)]\n",
      "[('헨리', 8), ('에드워드', 10), ('토마스', 17)]\n"
     ]
    }
   ],
   "source": [
    "# 실무급 딕셔너리 활용\n",
    "# Q. 여러대의 화물기차의 수송량을 합산해 순위룰 매긴다. \n",
    "ttL = [('토마스', 5), ('헨리', 8), ('에드워드', 9), ('토마스', 12), ('에드워드', 1)]\n",
    "\n",
    "tD = {}\n",
    "tL = []\n",
    "tR, cR = 1, 1\n",
    "\n",
    "for tmpTup in ttL:\n",
    "    tName = tmpTup[0]\n",
    "    tWeight = tmpTup[1]\n",
    "    if tName in tD :\n",
    "        tD[tName] += tWeight\n",
    "    else:\n",
    "        tD[tName] = tWeight\n",
    "\n",
    "print(list(tD.items())) # 정렬을 위한 리스트화\n",
    "\n",
    "import operator\n",
    "tL = sorted(tD.items(), key = operator.itemgetter(1))\n",
    "print(tL)\n",
    "\n"
   ]
  },
  {
   "cell_type": "code",
   "execution_count": 47,
   "metadata": {},
   "outputs": [
    {
     "name": "stdout",
     "output_type": "stream",
     "text": [
      "[('토마스', 17), ('에드워드', 10), ('헨리', 8)]\n"
     ]
    }
   ],
   "source": [
    "ttL = [('토마스', 5), ('헨리', 8), ('에드워드', 9), ('토마스', 12), ('에드워드', 1)]\n",
    "\n",
    "tD = {}\n",
    "tL = []\n",
    "\n",
    "for temp in ttL:\n",
    "    tName = temp[0]\n",
    "    tWeight = temp[1]\n",
    "    \n",
    "    if tName in tD:\n",
    "        tD[tName] = tD[tName] + tWeight\n",
    "    else:\n",
    "        tD[tName] = tWeight\n",
    "\n",
    "import operator\n",
    "\n",
    "tL = sorted(tD.items(), key = operator.itemgetter(1), reverse = True)\n",
    "print(tL)"
   ]
  },
  {
   "cell_type": "code",
   "execution_count": 49,
   "metadata": {},
   "outputs": [
    {
     "name": "stdout",
     "output_type": "stream",
     "text": [
      "300\n",
      "350\n",
      "500\n"
     ]
    }
   ],
   "source": [
    "# 함수 - \n",
    "# 유지보수를 위해 함수에대한 설명, 파라미터에 대한 설명들을 잘 다는게 회사에선 주요 이슈\n",
    "# return 는 없어도 써주는게 원칙\n",
    "\n",
    "def plus(v1, v2) :\n",
    "    result = 0\n",
    "    result = v1 + v2\n",
    "    print(result)\n",
    "    return \n",
    "\n",
    "\n",
    "plus(100, 200)\n",
    "plus(150, 200)\n",
    "plus(200, 300)"
   ]
  },
  {
   "cell_type": "code",
   "execution_count": 53,
   "metadata": {},
   "outputs": [
    {
     "name": "stdout",
     "output_type": "stream",
     "text": [
      "f1 a:  10\n",
      "f2 a:  1234\n"
     ]
    }
   ],
   "source": [
    "def func1():\n",
    "    a = 10\n",
    "    print('f1 a: ', a)\n",
    "    \n",
    "def func2():\n",
    "    print('f2 a: ', a)\n",
    "    \n",
    "a = 1234\n",
    "func1() # 가 10으로 변경되어 있기를 기대함\n",
    "\n",
    "func2()"
   ]
  },
  {
   "cell_type": "code",
   "execution_count": 54,
   "metadata": {},
   "outputs": [
    {
     "name": "stdout",
     "output_type": "stream",
     "text": [
      "f1 a:  10\n",
      "f2 a:  10\n"
     ]
    }
   ],
   "source": [
    "# global은 필요없어도 해준다.(규칙)\n",
    "# 변수이름 규칙,global이면 g_var 이렇게 \n",
    "def func1():\n",
    "    global a\n",
    "    a = 10\n",
    "    print('f1 a: ', a)\n",
    "    \n",
    "def func2():\n",
    "    global a\n",
    "    print('f2 a: ', a)\n",
    "    \n",
    "a = 1234\n",
    "func1() # 가 10으로 변경되어 있기를 기대함\n",
    "\n",
    "func2()"
   ]
  },
  {
   "cell_type": "code",
   "execution_count": 57,
   "metadata": {},
   "outputs": [
    {
     "name": "stdout",
     "output_type": "stream",
     "text": [
      "(300, -100)\n",
      "300 -100\n"
     ]
    }
   ],
   "source": [
    "# 함수 return값이 2개 이상\n",
    "\n",
    "def calc(v1, v2):\n",
    "    result1 = v1 + v2\n",
    "    result2 = v1 - v2\n",
    "    return result1, result2\n",
    "\n",
    "hap = calc(100,200)\n",
    "print(hap) # 튜플로 넘어온다. \n",
    "hap1, hap2 = calc(100,200)\n",
    "print(hap[0], hap[1])"
   ]
  },
  {
   "cell_type": "code",
   "execution_count": 61,
   "metadata": {},
   "outputs": [
    {
     "name": "stdout",
     "output_type": "stream",
     "text": [
      "55\n"
     ]
    }
   ],
   "source": [
    "# parameter 갯수와 상관없이 \n",
    "def calc2(*para):\n",
    "    res = 0\n",
    "    for num in para:\n",
    "        res += num\n",
    "    return res\n",
    "\n",
    "hap = calc2(1,2,3,4,5,6,7,8,9,10)\n",
    "print(hap)"
   ]
  },
  {
   "cell_type": "code",
   "execution_count": 62,
   "metadata": {},
   "outputs": [
    {
     "name": "stdout",
     "output_type": "stream",
     "text": [
      "300\n"
     ]
    }
   ],
   "source": [
    "# [★] 내부함수\n",
    "def outFunc(v1, v2):\n",
    "    def inFunc(n1, n2): # 내부함수. 왜 씀? 딱 그 함수 안에서만 써먹고 안쓴다는 뜻. 지역변수처럼 사라지게 \n",
    "        return n1 + n2  \n",
    "    return inFunc(v1, v2) # 쓰레딩에서 사용\n",
    "\n",
    "print(outFunc(100,200))"
   ]
  },
  {
   "cell_type": "code",
   "execution_count": 63,
   "metadata": {},
   "outputs": [
    {
     "name": "stdout",
     "output_type": "stream",
     "text": [
      "300\n"
     ]
    }
   ],
   "source": [
    "# [★] 람다함수, 실제로 자주 사용\n",
    "\n",
    "def hap(v1, v2):\n",
    "    res = v1 + v2\n",
    "    return res\n",
    "\n",
    "print(hap(100,200))"
   ]
  },
  {
   "cell_type": "code",
   "execution_count": 64,
   "metadata": {},
   "outputs": [
    {
     "name": "stdout",
     "output_type": "stream",
     "text": [
      "300\n"
     ]
    }
   ],
   "source": [
    "hap2 = lambda v1, v2 : v1 + v2\n",
    "print(hap2(100,200))"
   ]
  },
  {
   "cell_type": "code",
   "execution_count": 65,
   "metadata": {},
   "outputs": [
    {
     "name": "stdout",
     "output_type": "stream",
     "text": [
      "[11, 12, 13, 14, 15]\n"
     ]
    }
   ],
   "source": [
    "# [★] map함수, 실제로 자주 사용\n",
    "\n",
    "myList = [1,2,3,4,5]\n",
    "def add10(num): # 각각 10씩 더하고싶다.\n",
    "    return num + 10\n",
    "\n",
    "for i in range(len(myList)):\n",
    "    myList[i] = add10(myList[i])\n",
    "    \n",
    "print(myList)\n"
   ]
  },
  {
   "cell_type": "code",
   "execution_count": 67,
   "metadata": {},
   "outputs": [
    {
     "name": "stdout",
     "output_type": "stream",
     "text": [
      "<map object at 0x000001AD97C50048>\n",
      "[11, 12, 13, 14, 15]\n"
     ]
    }
   ],
   "source": [
    "# [★] map함수, 실제로 자주 사용\n",
    "\n",
    "myList = [1,2,3,4,5]\n",
    "def add10(num): # 각각 10씩 더하고싶다.\n",
    "    return num + 10\n",
    "\n",
    "print(myList)\n",
    "\n",
    "myList = map(add10, myList) # myList안에 있는 값들을 반복해서 add10함수에 넣어준다.\n",
    "print(myList)\n",
    "\n",
    "myList = list(myList)\n",
    "print(myList)\n",
    "\n"
   ]
  },
  {
   "cell_type": "code",
   "execution_count": null,
   "metadata": {},
   "outputs": [],
   "source": [
    "myList = list(map(lambda num : num+10, myList))"
   ]
  },
  {
   "cell_type": "code",
   "execution_count": null,
   "metadata": {},
   "outputs": [],
   "source": []
  },
  {
   "cell_type": "code",
   "execution_count": null,
   "metadata": {},
   "outputs": [],
   "source": [
    "\n",
    "\n",
    "\n",
    "\n",
    "\n",
    "\n",
    "\n",
    "\n",
    "\n",
    "\n",
    "\n",
    "\n",
    "\n",
    "\n",
    "\n",
    "\n",
    "\n",
    "\n",
    "\n",
    "\n",
    "\n",
    "\n",
    "\n",
    "\n",
    "\n",
    "\n",
    "\n",
    "\n",
    "\n"
   ]
  }
 ],
 "metadata": {
  "kernelspec": {
   "display_name": "실습용",
   "language": "python",
   "name": "newsscraping"
  },
  "language_info": {
   "codemirror_mode": {
    "name": "ipython",
    "version": 3
   },
   "file_extension": ".py",
   "mimetype": "text/x-python",
   "name": "python",
   "nbconvert_exporter": "python",
   "pygments_lexer": "ipython3",
   "version": "3.7.3"
  }
 },
 "nbformat": 4,
 "nbformat_minor": 2
}
