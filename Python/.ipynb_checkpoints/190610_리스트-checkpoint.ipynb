{
 "cells": [
  {
   "cell_type": "code",
   "execution_count": null,
   "metadata": {},
   "outputs": [],
   "source": [
    "\n"
   ]
  },
  {
   "cell_type": "code",
   "execution_count": 11,
   "metadata": {},
   "outputs": [
    {
     "name": "stdout",
     "output_type": "stream",
     "text": [
      "원 영상 :  [67, 84, 42, 75]\n",
      "영상 평균 :  67.0\n"
     ]
    }
   ],
   "source": [
    "# 04-02 리스트 4.py\n",
    "import random\n",
    "# 1. 메모리 확보 (C나 다른 언어와 호환이 쉽도록 코드작성하기)\n",
    "SIZE = 4\n",
    "aa = []\n",
    "for i in range(SIZE):\n",
    "    aa.append(0)\n",
    "    \n",
    "# 2. 메모리에 필요한 값 대입 (파일 읽기)\n",
    "for i in range(SIZE):\n",
    "    num = random.randint(0,99)\n",
    "    aa[i] = num\n",
    "    \n",
    "# 3. 메모리 처리/ 조작/ 연산 (알고리즘)\n",
    "sum = 0\n",
    "\n",
    "for i in range(SIZE):\n",
    "    sum += aa[i]\n",
    "\n",
    "avg = sum / SIZE\n",
    "print(\"원 영상 : \", aa)\n",
    "print(\"영상 평균 : \", avg)"
   ]
  },
  {
   "cell_type": "code",
   "execution_count": 12,
   "metadata": {},
   "outputs": [
    {
     "name": "stdout",
     "output_type": "stream",
     "text": [
      "원 영상 :  [97, 69, 47, 17, 40, 78, 34, 88, 29, 57]\n",
      "처리 후 :  [99, 79, 57, 27, 50, 88, 44, 98, 39, 67]\n"
     ]
    }
   ],
   "source": [
    "# Quiz\n",
    "# 1. 10 크기의 영상 데이터를 랜덤하게 준비한 후, 영상에 밝기를 더한다. (+10)\n",
    "import random\n",
    "\n",
    "SIZE = 10\n",
    "aa = []\n",
    "for i in range(SIZE):\n",
    "    aa.append(0)\n",
    "\n",
    "for i in range(SIZE):\n",
    "    aa[i] = random.randint(0,99)\n",
    "print(\"원 영상 : \", aa)\n",
    "    \n",
    "for i in range(SIZE):\n",
    "    aa[i] += 10\n",
    "    if aa[i] > 99: # overflow 처리 (0~99 사이로)\n",
    "        aa[i] = 99\n",
    "print(\"처리 후 : \", aa)\n"
   ]
  },
  {
   "cell_type": "code",
   "execution_count": 19,
   "metadata": {},
   "outputs": [
    {
     "name": "stdout",
     "output_type": "stream",
     "text": [
      "[99, 57, 50, 44, 39] 2칸씩 건너뛰기\n",
      "[67, 39, 98, 44, 88, 50, 27, 57, 79, 99] reverse\n"
     ]
    }
   ],
   "source": [
    "# list 참조하기\n",
    "aa[1] # 값\n",
    "aa[1:2] # 리스트\n",
    "aa[-1] \n",
    "\n",
    "print(aa[::2], '2칸씩 건너뛰기')\n",
    "print(aa[::-1], 'reverse') # reverse도 사용 \n",
    "\n",
    "# 값 끼워넣기\n",
    "aa[3:4] = [11, 00, 11]\n",
    "\n",
    "# 소멸시키기  (대용량에선 고민해야한다.)\n",
    "aa = None # 메모리 해제\n"
   ]
  },
  {
   "cell_type": "code",
   "execution_count": null,
   "metadata": {},
   "outputs": [],
   "source": []
  }
 ],
 "metadata": {
  "kernelspec": {
   "display_name": "Python 3",
   "language": "python",
   "name": "python3"
  },
  "language_info": {
   "codemirror_mode": {
    "name": "ipython",
    "version": 3
   },
   "file_extension": ".py",
   "mimetype": "text/x-python",
   "name": "python",
   "nbconvert_exporter": "python",
   "pygments_lexer": "ipython3",
   "version": "3.7.3"
  }
 },
 "nbformat": 4,
 "nbformat_minor": 2
}
