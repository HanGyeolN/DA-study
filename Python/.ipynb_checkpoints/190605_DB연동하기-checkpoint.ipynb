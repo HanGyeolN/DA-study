{
 "cells": [
  {
   "cell_type": "code",
   "execution_count": 1,
   "metadata": {},
   "outputs": [
    {
     "name": "stdout",
     "output_type": "stream",
     "text": [
      "OK~\n"
     ]
    }
   ],
   "source": [
    "# 파이썬 내장 DB(SQLite) 사용하기\n",
    "# 1. DB 생성\n",
    "\n",
    "import sqlite3\n",
    "####################\n",
    "# 1. DB 생성(연결)\n",
    "conn = sqlite3.connect(\"samsongDB_python\")\n",
    "# 1-2. 연결 트럭 생성\n",
    "cur = conn.cursor()\n",
    "\n",
    "\n",
    "# sqlite3 -> DB가 없으면 자동생성, 있으면 자동열기\n",
    "# 권장사항 : 문자열은 큰따옴표로\n",
    "\n",
    "#####################\n",
    "# 2. Table 생성\n",
    "# 2-1. 쿼리문 제작\n",
    "# sql = \"CREATE TABLE userTable(userId INT, userName CHAR(5))\"\n",
    "\n",
    "# 2-1+. 테이블 자동생성/열기 코드\n",
    "sql = \"CREATE TABLE IF NOT EXISTS userTable(userId INT, userName CHAR(5))\"\n",
    "\n",
    "# 2-2. 쿼리문 수행\n",
    "cur.execute(sql)\n",
    "\n",
    "######################\n",
    "# 3. 데이터 입력\n",
    "sql = \"INSERT INTO userTable VALUES( 1, '홍길동')\"\n",
    "cur.execute(sql)\n",
    "sql = \"INSERT INTO userTable VALUES( 2, '이순신')\"\n",
    "cur.execute(sql)\n",
    "\n",
    "\n",
    "######################\n",
    "# 4. COMMIT\n",
    "conn.commit()\n",
    "\n",
    "# 6. DB 연결해제\n",
    "cur.close()\n",
    "conn.close()\n",
    "\n",
    "print('OK~')\n"
   ]
  },
  {
   "cell_type": "code",
   "execution_count": 3,
   "metadata": {},
   "outputs": [
    {
     "name": "stdout",
     "output_type": "stream",
     "text": [
      "(1, '홍길동')\n",
      "(2, '이순신')\n",
      "(1, '홍길동')\n",
      "(2, '이순신')\n",
      "OK~\n"
     ]
    }
   ],
   "source": [
    "# 파이썬 내장 DB(SQLite) 사용하기\n",
    "# 2. DB 조회\n",
    "\n",
    "import sqlite3\n",
    "\n",
    "conn = sqlite3.connect(\"samsongDB_python\")\n",
    "cur = conn.cursor()\n",
    "#################\n",
    "# 1. SELECT\n",
    "# 1-1. 데이터 한번에 가져오기\n",
    "sql = \"SELECT * FROM userTable\"\n",
    "cur.execute(sql)\n",
    "\n",
    "rows = cur.fetchall()\n",
    "# 원래는 한개씩 가져와야한다.\n",
    "\n",
    "for row in rows:\n",
    "    print(row)\n",
    "\n",
    "\n",
    "cur.close()\n",
    "conn.close()\n",
    "print('OK~')"
   ]
  },
  {
   "cell_type": "code",
   "execution_count": 2,
   "metadata": {},
   "outputs": [
    {
     "name": "stdout",
     "output_type": "stream",
     "text": [
      "OK~\n"
     ]
    },
    {
     "name": "stderr",
     "output_type": "stream",
     "text": [
      "C:\\Users\\user\\.conda\\envs\\newsScraping\\lib\\site-packages\\pymysql\\cursors.py:170: Warning: (1050, \"Table 'usertable2' already exists\")\n",
      "  result = self._query(query)\n"
     ]
    }
   ],
   "source": [
    "#  MySQL과 파이썬 연동해서 사용하기\n",
    "# 1. 데이터 입력\n",
    "\n",
    "import pymysql\n",
    "\n",
    "# 1. port\n",
    "# 2. id\n",
    "# 3. pw\n",
    "# 4. 인코딩방식\n",
    "# tip) 삽업표준\n",
    "\n",
    "####################\n",
    "# 1. DB 생성(연결)\n",
    "conn = pymysql.connect(host=\"192.168.56.109\", user=\"root\", password=\"1234\", db=\"samsongdb\", charset=\"utf8\")\n",
    "# tip) 위에 연결 방식이 기본\n",
    "\n",
    "# 1-2. 연결 트럭 생성\n",
    "cur = conn.cursor()\n",
    "\n",
    "\n",
    "# sqlite3 -> DB가 없으면 자동생성, 있으면 자동열기\n",
    "# 권장사항 : 문자열은 큰따옴표로\n",
    "\n",
    "#####################\n",
    "# 2. Table 생성\n",
    "# 2-1. 쿼리문 제작\n",
    "# sql = \"CREATE TABLE userTable(userId INT, userName CHAR(5))\"\n",
    "\n",
    "# 2-1+. 테이블 자동생성/열기 코드\n",
    "sql = \"CREATE TABLE IF NOT EXISTS userTable2(userId INT, userName CHAR(5))\"\n",
    "\n",
    "# 2-2. 쿼리문 수행\n",
    "cur.execute(sql)\n",
    "\n",
    "######################\n",
    "# 3. 데이터 입력\n",
    "sql = \"INSERT INTO userTable2 VALUES( 1, '홍길동')\"\n",
    "cur.execute(sql)\n",
    "sql = \"INSERT INTO userTable2 VALUES( 2, '이순신')\"\n",
    "cur.execute(sql)\n",
    "\n",
    "\n",
    "######################\n",
    "# 4. COMMIT\n",
    "conn.commit()\n",
    "\n",
    "# 6. DB 연결해제\n",
    "cur.close()\n",
    "conn.close()\n",
    "\n",
    "print('OK~')\n"
   ]
  },
  {
   "cell_type": "code",
   "execution_count": 3,
   "metadata": {},
   "outputs": [
    {
     "name": "stdout",
     "output_type": "stream",
     "text": [
      "((1, '홍길동'), (2, '이순신'), (1, '홍길동'), (2, '이순신'))\n",
      "OK~\n"
     ]
    }
   ],
   "source": [
    "#  MySQL과 파이썬 연동해서 사용하기\n",
    "# 2. 데이터 조회\n",
    "\n",
    "import pymysql\n",
    "\n",
    "conn = pymysql.connect(host=\"192.168.56.109\", user=\"root\", password=\"1234\", db=\"samsongdb\", charset=\"utf8\")\n",
    "cur = conn.cursor()\n",
    "#################\n",
    "# 1. SELECT\n",
    "# 1-1. 데이터 한번에 가져오기\n",
    "sql = \"SELECT * FROM userTable2\"\n",
    "cur.execute(sql)\n",
    "\n",
    "rows = cur.fetchall()\n",
    "# 원래는 한개씩 가져와야한다.\n",
    "\n",
    "print(rows)\n",
    "\n",
    "\n",
    "cur.close()\n",
    "conn.close()\n",
    "print('OK~')"
   ]
  },
  {
   "cell_type": "code",
   "execution_count": null,
   "metadata": {},
   "outputs": [],
   "source": [
    "# Mission. Window Server VM에 설치한 MySQL과 연동하기\n",
    "# 1. 사번에 0을 넣으면 종료\n",
    "\n",
    "import pymysql\n",
    "\n",
    "employeeId = 0\n",
    "employeeName = \"\"\n",
    "employeeYear = 0\n",
    "\n",
    "if __name__ == '__main__':\n",
    "    conn = pymysql.connect(host=\"192.168.56.104\",port=3306, user=\"root\", password=\"1234\", db=\"mission3\",\n",
    "                           charset=\"utf8\")\n",
    "    cur = conn.cursor()\n",
    "\n",
    "    sql = \"CREATE TABLE IF NOT EXISTS employeeTable(employeeId INT, employeeName CHAR(5), employeeYear SMALLINT)\"\n",
    "    #cur.execute(sql)\n",
    "\n",
    "    while True:\n",
    "\n",
    "        employeeId = int(input(\" 사번 --> \"))\n",
    "        if employeeId == 0:\n",
    "            break\n",
    "        employeeName = input(\" 이름 --> \")\n",
    "        employeeYear = int(input(\" 입사연도 --> \"))\n",
    "\n",
    "        sql = \"INSERT INTO employeeTable VALUES (%d,\\'%s\\',%d)\" % (employeeId, employeeName, employeeYear)\n",
    "        cur.execute(sql)\n",
    "\n",
    "\n",
    "    conn.commit()\n",
    "\n",
    "    cur.close()\n",
    "    conn.close()"
   ]
  },
  {
   "cell_type": "code",
   "execution_count": null,
   "metadata": {},
   "outputs": [],
   "source": [
    "# DB에서 데이터 조회해 출력하기\n",
    "\n",
    "import pymysql\n",
    "\n",
    "employeeId = 0\n",
    "employeeName = \"\"\n",
    "employeeYear = 0\n",
    "\n",
    "if __name__ == '__main__':\n",
    "    conn = pymysql.connect(host=\"192.168.56.104\",port=3306, user=\"root\", password=\"1234\", db=\"mission3\",\n",
    "                           charset=\"utf8\")\n",
    "    cur = conn.cursor()\n",
    "\n",
    "    sql = \"SELECT * FROM employeeTable\"\n",
    "    cur.execute(sql)\n",
    "\n",
    "    print(\"사번\", \"이름\", \"입사연도\")\n",
    "    print(\"======================\")\n",
    "\n",
    "    while True:\n",
    "        data = cur.fetchone()\n",
    "        if data == None:\n",
    "            break\n",
    "        print(data[0], data[1], data[2])\n",
    "\n",
    "\n",
    "    conn.commit()\n",
    "\n",
    "    cur.close()\n",
    "    conn.close()"
   ]
  }
 ],
 "metadata": {
  "kernelspec": {
   "display_name": "실습용",
   "language": "python",
   "name": "newsscraping"
  },
  "language_info": {
   "codemirror_mode": {
    "name": "ipython",
    "version": 3
   },
   "file_extension": ".py",
   "mimetype": "text/x-python",
   "name": "python",
   "nbconvert_exporter": "python",
   "pygments_lexer": "ipython3",
   "version": "3.7.3"
  }
 },
 "nbformat": 4,
 "nbformat_minor": 2
}
