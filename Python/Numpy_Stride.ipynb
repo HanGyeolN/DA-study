{
 "cells": [
  {
   "cell_type": "code",
   "execution_count": 46,
   "metadata": {},
   "outputs": [],
   "source": [
    "# 넘파이를 자유자재로 써서 행렬 계산을 해야하니까.\n",
    "import numpy as np\n",
    "from numpy.lib import stride_tricks as st"
   ]
  },
  {
   "cell_type": "code",
   "execution_count": 47,
   "metadata": {},
   "outputs": [],
   "source": [
    "a = np.array([[1,2,3,4],[5,6,7,8],[9,10,11,12],[13,14,15,16]])\n",
    "# a.bytes()\n",
    "# a.butes()[]\n",
    "# a.data"
   ]
  },
  {
   "cell_type": "code",
   "execution_count": 53,
   "metadata": {},
   "outputs": [
    {
     "name": "stdout",
     "output_type": "stream",
     "text": [
      "[[ 1  2  3  4]\n",
      " [ 5  6  7  8]\n",
      " [ 9 10 11 12]\n",
      " [13 14 15 16]]\n",
      "a.shape: (4, 4)\n",
      "a.srides: (16, 4)\n"
     ]
    }
   ],
   "source": [
    "print(a)\n",
    "print(\"a.shape:\", a.shape)\n",
    "print(\"a.srides:\", a.strides)"
   ]
  },
  {
   "cell_type": "code",
   "execution_count": 136,
   "metadata": {},
   "outputs": [
    {
     "name": "stdout",
     "output_type": "stream",
     "text": [
      "(9, 2) 횟수, 윈도우높이, 윈도우폭\n",
      "(4, 4) 다음열바이트, 1개크기, 건너뛸단위\n",
      "4 itemsize\n"
     ]
    }
   ],
   "source": [
    "window = 2\n",
    "shape = a.shape[:-1] + (a.shape[-1] - window + 1, window)\n",
    "print(shape, \"횟수, 윈도우높이, 윈도우폭\")\n",
    "strides = a.strides + (a.strides[-1],)\n",
    "print(strides, \"다음열바이트, 1개크기, 건너뛸단위\") \n",
    "print(a.itemsize,\"itemsize\")"
   ]
  },
  {
   "cell_type": "code",
   "execution_count": 138,
   "metadata": {
    "scrolled": true
   },
   "outputs": [
    {
     "name": "stdout",
     "output_type": "stream",
     "text": [
      "[[[          0           1]\n",
      "  [          4           5]]\n",
      "\n",
      " [[          2           3]\n",
      "  [          6           7]]\n",
      "\n",
      " [[          4           5]\n",
      "  [          8           9]]\n",
      "\n",
      " [[          6           7]\n",
      "  [  521259415 -2147481344]]\n",
      "\n",
      " [[          8           9]\n",
      "  [-1901228944         330]]\n",
      "\n",
      " [[  521259415 -2147481344]\n",
      "  [         49          58]]\n",
      "\n",
      " [[-1901228944         330]\n",
      "  [         43          50]]\n",
      "\n",
      " [[         49          58]\n",
      "  [         44          93]]\n",
      "\n",
      " [[         43          50]\n",
      "  [          0           0]]\n",
      "\n",
      " [[         44          93]\n",
      "  [  523028884 -2147481088]]\n",
      "\n",
      " [[          0           0]\n",
      "  [-1896928592         330]]\n",
      "\n",
      " [[  523028884 -2147481088]\n",
      "  [-1870191808         330]]]\n"
     ]
    }
   ],
   "source": [
    "shape = (12,2,2) # 출력 모양\n",
    "strides = (2*4,4*4,4) # 건너뛰기 ()\n",
    "\n",
    "win = st.as_strided(a, shape=shape, strides=strides)\n",
    "print(win)\n",
    "\n"
   ]
  },
  {
   "cell_type": "code",
   "execution_count": 134,
   "metadata": {},
   "outputs": [
    {
     "data": {
      "text/plain": [
       "array([1])"
      ]
     },
     "execution_count": 134,
     "metadata": {},
     "output_type": "execute_result"
    }
   ],
   "source": [
    "a[1:+2,]"
   ]
  },
  {
   "cell_type": "code",
   "execution_count": 135,
   "metadata": {},
   "outputs": [
    {
     "name": "stdout",
     "output_type": "stream",
     "text": [
      "[0 1 2 3 4 5 6 7 8 9]\n",
      "[0 1 2 3 4 5 6 7 8 9]\n"
     ]
    }
   ],
   "source": [
    "print(a)\n",
    "print(b)"
   ]
  },
  {
   "cell_type": "code",
   "execution_count": null,
   "metadata": {},
   "outputs": [],
   "source": [
    "def rolling(a, window):\n",
    "    shape = (a.size - window + 1, window)\n",
    "    strides = (a.itemsize, a.itemsize)\n",
    "    return np.lib.stride_tricks.as_strided(a, shape=shape, strides=strides)"
   ]
  },
  {
   "cell_type": "code",
   "execution_count": 131,
   "metadata": {},
   "outputs": [
    {
     "ename": "SyntaxError",
     "evalue": "invalid syntax (<ipython-input-131-962c7f5b2706>, line 5)",
     "output_type": "error",
     "traceback": [
      "\u001b[1;36m  File \u001b[1;32m\"<ipython-input-131-962c7f5b2706>\"\u001b[1;36m, line \u001b[1;32m5\u001b[0m\n\u001b[1;33m    c = np.array([0:10])\u001b[0m\n\u001b[1;37m                   ^\u001b[0m\n\u001b[1;31mSyntaxError\u001b[0m\u001b[1;31m:\u001b[0m invalid syntax\n"
     ]
    }
   ],
   "source": [
    "a = np.arange(10)\n",
    "b = np.arange(10)\n",
    "\n"
   ]
  },
  {
   "cell_type": "code",
   "execution_count": 144,
   "metadata": {},
   "outputs": [
    {
     "name": "stdout",
     "output_type": "stream",
     "text": [
      "0.0\n"
     ]
    }
   ],
   "source": [
    "inH = inW = 256\n",
    "scale = 2\n",
    "\n",
    "nStep = inW - scale\n",
    "memorySize = 1\n",
    "shape = (nStep,scale,scale) # 출력 모양\n",
    "a=np.zeros((256,256))\n",
    "\n",
    "temp = []\n",
    "for row in range(0,inH - scale):\n",
    "    strides = (1*memorySize,inW*memorySize,memorySize) # 건너뛰기 ()\n",
    "    win = st.as_strided(a[row:row+scale,:], shape=shape, strides=strides)\n",
    "    temp.append(win.mean())\n",
    "\n",
    "print(temp[0])\n"
   ]
  },
  {
   "cell_type": "code",
   "execution_count": 147,
   "metadata": {},
   "outputs": [
    {
     "data": {
      "text/plain": [
       "3.5"
      ]
     },
     "execution_count": 147,
     "metadata": {},
     "output_type": "execute_result"
    }
   ],
   "source": [
    "a = np.array([[[1,2],[3,4]],[[3,4],[5,6]]])\n",
    "a.mean()"
   ]
  },
  {
   "cell_type": "code",
   "execution_count": 171,
   "metadata": {},
   "outputs": [
    {
     "name": "stdout",
     "output_type": "stream",
     "text": [
      "[2.5, 4.5]\n"
     ]
    }
   ],
   "source": [
    "g = np.array([0,0])\n",
    "g = list(map(np.mean, a))\n",
    "print(g)"
   ]
  },
  {
   "cell_type": "code",
   "execution_count": 178,
   "metadata": {},
   "outputs": [
    {
     "data": {
      "text/plain": [
       "array([[1, 2, 3],\n",
       "       [2, 3, 4]])"
      ]
     },
     "execution_count": 178,
     "metadata": {},
     "output_type": "execute_result"
    }
   ],
   "source": [
    "a = np.array([[1,2,3]])\n",
    "np.append(a,[[2,3,4]],axis=0)\n"
   ]
  },
  {
   "cell_type": "code",
   "execution_count": 179,
   "metadata": {},
   "outputs": [
    {
     "name": "stdout",
     "output_type": "stream",
     "text": [
      "[1 2 3]\n"
     ]
    }
   ],
   "source": [
    "print(np.array([1,2,3]))"
   ]
  },
  {
   "cell_type": "code",
   "execution_count": null,
   "metadata": {},
   "outputs": [],
   "source": []
  }
 ],
 "metadata": {
  "kernelspec": {
   "display_name": "Python 3",
   "language": "python",
   "name": "python3"
  },
  "language_info": {
   "codemirror_mode": {
    "name": "ipython",
    "version": 3
   },
   "file_extension": ".py",
   "mimetype": "text/x-python",
   "name": "python",
   "nbconvert_exporter": "python",
   "pygments_lexer": "ipython3",
   "version": "3.7.3"
  }
 },
 "nbformat": 4,
 "nbformat_minor": 2
}
