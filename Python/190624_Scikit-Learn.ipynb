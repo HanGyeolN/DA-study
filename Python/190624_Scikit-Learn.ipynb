{
 "cells": [
  {
   "cell_type": "code",
   "execution_count": null,
   "metadata": {},
   "outputs": [],
   "source": [
    "## 1. scikit-learn\n",
    "\n",
    "## 2. pandas\n",
    "\n",
    "## 3. "
   ]
  },
  {
   "cell_type": "markdown",
   "metadata": {},
   "source": [
    "참고\n",
    "- https://blog.naver.com/beyondlegend/221355061983"
   ]
  },
  {
   "cell_type": "markdown",
   "metadata": {},
   "source": [
    "### 전체 과정\n",
    "1. 데이터셋 불러오기 - 나중엔 DB에서 불러오도록\n",
    "2. 모델 선택\n",
    "3. 학습\n",
    "4. 검증\n",
    "5. 사용"
   ]
  },
  {
   "cell_type": "code",
   "execution_count": 2,
   "metadata": {},
   "outputs": [],
   "source": [
    "# V1. 기본\n",
    "from sklearn import svm, metrics\n",
    "# metrics = 정답률 확인용\n",
    "\n",
    "# 0. 훈련 데이터셋\n",
    "train_data = [[0,0], [0,1],[1,0], [1,1]]\n",
    "train_label = [0,1,1,0]\n",
    "test_data = [[1,0], [0,0]]\n",
    "test_label = [1,0]\n",
    "\n",
    "# 1, Classifier 생성(선택) -> 머신러닝 알고리즘 선택\n",
    "clf = svm.SVC(gamma='auto') # Classifier의 약자\n",
    "\n",
    "# 2. 데이터로 학습 시키기\n",
    "# XOR 문제 :\n",
    "clf.fit(train_data, train_label) # ([훈련데이터], [정답])\n",
    "# 이런 입력 데이터를 pandas에 저장해놓는걸 가장 많이함\n",
    "\n",
    "\n",
    "# 3. 검증하기 - 정답률(신뢰도) 확인\n",
    "result = clf.predict(test_data)\n",
    "score = metrics.accuracy_score(result, test_label)\n",
    "print(\"Accuracy: {0:.2f}%\".format(score*100))\n",
    "\n",
    "# 4. 예측하기\n",
    "result = clf.predict([[0,0], [0,1], [1,0], [1,1]]) # ([예측할 데이터])\n",
    "print(result)"
   ]
  },
  {
   "cell_type": "code",
   "execution_count": 52,
   "metadata": {},
   "outputs": [
    {
     "name": "stdout",
     "output_type": "stream",
     "text": [
      "<class 'pandas.core.frame.DataFrame'>\n",
      "<class 'pandas.core.series.Series'>\n"
     ]
    }
   ],
   "source": [
    "# V2. csv에서 데이터 불러오기\n",
    "from sklearn import svm, metrics\n",
    "import pandas as pd\n",
    "\n",
    "# 0. 데이터 준비\n",
    "csv = pd.read_csv(\"C:/BigData/iris/iris.csv\")\n",
    "\n",
    "train_data = csv.iloc[0:120,0:-1]\n",
    "train_label = csv.iloc[0:120,[-1]]\n",
    "test_data = csv.iloc[120:,0:-1]\n",
    "test_label = csv.iloc[120:,[-1]]\n",
    "t2 = csv.iloc[120:,-1]\n",
    "print(type(test_label))\n",
    "print(type(t2)) \n",
    "\n",
    "# 1. 알고리즘\n",
    "clf = svm.SVC(gamma=\"auto\")\n",
    "\n",
    "# 2. 훈련\n",
    "clf.fit(train_data, train_label)\n",
    "\n",
    "# 3. 검증\n",
    "result = clf.predict(test_data)\n",
    "score = metrics.accuracy_score(result, test_label)\n",
    "print(\"Acc: {0:.2f}%\".format(score*100))\n",
    "\n",
    "print(result)\n",
    "\n",
    "# ==========================\n",
    "# 이 위에까진 저장해놓고 쓰는 것\n",
    "\n",
    "# 4 : 내꺼예측\n",
    "result = clf.predict([[4.1, 3.3, 1.5, 0.2]])\n",
    "\n",
    "print(result)"
   ]
  },
  {
   "cell_type": "code",
   "execution_count": 86,
   "metadata": {},
   "outputs": [
    {
     "name": "stdout",
     "output_type": "stream",
     "text": [
      "Acc: 95.24%\n",
      "['Setosa' 'Setosa' 'Virginica' 'Versicolor' 'Virginica' 'Versicolor'\n",
      " 'Versicolor' 'Versicolor' 'Setosa' 'Versicolor' 'Virginica' 'Virginica'\n",
      " 'Versicolor' 'Virginica' 'Setosa' 'Virginica' 'Virginica' 'Setosa'\n",
      " 'Virginica' 'Virginica' 'Versicolor' 'Versicolor' 'Setosa' 'Versicolor'\n",
      " 'Virginica' 'Virginica' 'Versicolor' 'Versicolor' 'Versicolor'\n",
      " 'Versicolor' 'Virginica' 'Virginica' 'Virginica' 'Virginica' 'Versicolor'\n",
      " 'Versicolor' 'Versicolor' 'Virginica' 'Versicolor' 'Setosa' 'Setosa'\n",
      " 'Virginica' 'Setosa' 'Virginica' 'Setosa' 'Versicolor' 'Versicolor'\n",
      " 'Setosa' 'Virginica' 'Versicolor' 'Virginica' 'Setosa' 'Versicolor'\n",
      " 'Setosa' 'Virginica' 'Setosa' 'Versicolor' 'Virginica' 'Virginica'\n",
      " 'Versicolor' 'Setosa' 'Setosa' 'Setosa' 'Versicolor' 'Setosa' 'Virginica'\n",
      " 'Setosa' 'Setosa' 'Setosa' 'Virginica' 'Versicolor' 'Virginica'\n",
      " 'Virginica' 'Versicolor' 'Versicolor' 'Setosa' 'Virginica' 'Versicolor'\n",
      " 'Setosa' 'Versicolor' 'Virginica' 'Virginica' 'Virginica' 'Setosa'\n",
      " 'Versicolor' 'Virginica' 'Versicolor' 'Versicolor' 'Versicolor'\n",
      " 'Versicolor' 'Virginica' 'Versicolor' 'Versicolor' 'Setosa' 'Virginica'\n",
      " 'Versicolor' 'Virginica' 'Versicolor' 'Versicolor' 'Versicolor' 'Setosa'\n",
      " 'Setosa' 'Setosa' 'Setosa' 'Versicolor']\n",
      "['Setosa']\n"
     ]
    },
    {
     "name": "stderr",
     "output_type": "stream",
     "text": [
      "C:\\ProgramData\\Anaconda3\\lib\\site-packages\\sklearn\\model_selection\\_split.py:2179: FutureWarning: From version 0.21, test_size will always complement train_size unless both are specified.\n",
      "  FutureWarning)\n",
      "C:\\ProgramData\\Anaconda3\\lib\\site-packages\\sklearn\\utils\\validation.py:761: DataConversionWarning: A column-vector y was passed when a 1d array was expected. Please change the shape of y to (n_samples, ), for example using ravel().\n",
      "  y = column_or_1d(y, warn=True)\n"
     ]
    }
   ],
   "source": [
    "# V3. scikit-learn 라이브러리 사용해서 데이터셋 쪼개기 \n",
    "from sklearn import svm, metrics\n",
    "from sklearn.model_selection import train_test_split\n",
    "import pandas as pd\n",
    "\n",
    "# 0. 데이터 준비\n",
    "csv = pd.read_csv(\"C:/BigData/iris/iris.csv\")\n",
    "\n",
    "data = csv.iloc[:, 0:-1]\n",
    "label = csv.iloc[:,[-1]]\n",
    "\n",
    "train_data, test_data, train_label, test_label = train_test_split(data, label, train_size=0.3)\n",
    "\n",
    "# 1. 알고리즘\n",
    "clf = svm.SVC(gamma=\"auto\")\n",
    "\n",
    "# 2. 훈련\n",
    "clf.fit(train_data, train_label)\n",
    "\n",
    "# 3. 검증\n",
    "result = clf.predict(test_data)\n",
    "score = metrics.accuracy_score(result, test_label)\n",
    "print(\"Acc: {0:.2f}%\".format(score*100))\n",
    "\n",
    "print(result)\n",
    "\n",
    "# ==========================\n",
    "# 이 위에까진 저장해놓고 쓰는 것\n",
    "\n",
    "# 4 : 내꺼예측\n",
    "result = clf.predict([[4.1, 3.3, 1.5, 0.2]])\n",
    "\n",
    "print(result)"
   ]
  },
  {
   "cell_type": "markdown",
   "metadata": {},
   "source": [
    "### MNIST DATA\n",
    "\n",
    "훈련 데이터 갯수에 따른 정확도"
   ]
  },
  {
   "cell_type": "code",
   "execution_count": 95,
   "metadata": {},
   "outputs": [
    {
     "name": "stdout",
     "output_type": "stream",
     "text": [
      "2.10  초 소요됨.\n"
     ]
    }
   ],
   "source": [
    "# V1. MNist binary 데이터 읽어서 CSV로 만들기\n",
    "import struct\n",
    "def to_csv(name, maxdata):\n",
    "    lbl_f = open(\"mnist/\" + name + \"-labels.idx1-ubyte\", \"rb\")\n",
    "    img_f = open(\"mnist/\" + name + \"-images.idx3-ubyte\", \"rb\")\n",
    "    csv_f = open(\"mnist/\" + name + \".csv\", \"w\", encoding=\"utf-8\")\n",
    "\n",
    "    mag, lbl_count = struct.unpack(\">II\", lbl_f.read(8))\n",
    "    mag, img_count = struct.unpack(\">II\", img_f.read(8))\n",
    "    rows, cols = struct.unpack(\">II\", img_f.read(8))\n",
    "    pixels = rows * cols\n",
    "\n",
    "    res = []\n",
    "    for idx in range(lbl_count):\n",
    "        if idx > maxdata:\n",
    "            break\n",
    "        label = struct.unpack(\"B\", lbl_f.read(1))[0]\n",
    "        bdata = img_f.read(pixels)\n",
    "        sdata = list(map(lambda n: str(n), bdata))\n",
    "        csv_f.write(str(label)+\",\")\n",
    "        csv_f.write(\",\".join(sdata)+\"\\r\\n\")\n",
    "\n",
    "    csv_f.close()\n",
    "    lbl_f.close()\n",
    "    img_f.close()\n",
    "\n",
    "# 시간 체크\n",
    "import time\n",
    "start = time.time()\n",
    "#to_csv(\"train\", 70000) # 원하는 개수를 적는다. 최대 6만 이므로 6만보다 크면 모두 처리됨.\n",
    "to_csv(\"t10k\", 10000)\n",
    "\n",
    "end = (time.time()-start)\n",
    "print( \"{0:.2f}\".format(end ), ' 초 소요됨.')\n"
   ]
  },
  {
   "cell_type": "code",
   "execution_count": 103,
   "metadata": {},
   "outputs": [],
   "source": [
    "# V2. MNIST CSV 불러오기\n",
    "from sklearn import svm, metrics\n",
    "from sklearn.model_selection import train_test_split\n",
    "import pandas as pd\n",
    "\n",
    "def changeValue(lst):\n",
    "    return [float(v) / 255 for v in lst]"
   ]
  },
  {
   "cell_type": "code",
   "execution_count": 114,
   "metadata": {
    "scrolled": true
   },
   "outputs": [
    {
     "name": "stdout",
     "output_type": "stream",
     "text": [
      "Acc: 84.40%\n",
      "[2 1 0 4 1 4 9 2 9 0 2 9 0 1 5 9 7 5 4 9 6 4 5 4 0 7 4 0 1 3 1 3 4 7 2 7 1\n",
      " 2 1 1 7 4 1 3 5 1 2 4 4 6 3 5 5 2 0 4 1 9 5 7 8 9 2 7 9 2 4 3 0 7 0 2 7 1\n",
      " 7 3 7 9 7 9 6 2 7 8 4 7 5 6 1 3 6 9 3 1 4 1 7 6 9 6 0 5 4 9 9 2 1 9 4 8 1\n",
      " 3 9 7 4 4 4 9 7 5 4 7 6 7 9 0 5 8 5 6 6 5 7 8 1 0 1 6 4 6 7 3 1 7 1 8 2 0\n",
      " 4 9 4 5 5 1 5 6 0 3 9 4 6 5 4 6 5 4 5 1 4 4 7 3 3 2 1 1 8 1 8 1 8 5 0 8 9\n",
      " 2 5 0 1 1 1 0 9 0 1 1 6 4 2 3 6 1 1 1 3 9 5 2 9 4 9 9 1 9 0 3 5 5 5 7 2 2\n",
      " 7 1 2 8 4 1 7 5 3 8 9 7 7 2 2 4 1 5 3 8 4 1 5 0 6 4 1 9 1 9 5 7 7 2 8 2 0\n",
      " 8 1 7 7 9 1 8 1 5 0 3 0 1 9 9 4 1 8 2 1 2 9 7 5 9 2 6 4 1 5 4 2 9 2 0 4 0\n",
      " 0 2 8 1 7 1 2 9 0 2 7 4 5 3 0 0 5 1 9 6 5 3 5 1 7 9 3 5 9 2 0 7 1 1 1 1 5\n",
      " 3 3 9 7 0 6 5 4 1 3 8 1 0 8 1 7 1 5 0 6 1 8 5 1 7 9 4 6 7 1 5 0 6 5 6 3 7\n",
      " 2 0 8 8 5 9 1 1 4 0 7 3 7 6 1 6 2 1 9 2 8 6 1 9 5 2 5 4 4 2 8 3 9 2 4 0 0\n",
      " 3 1 7 7 3 7 9 7 1 9 2 1 4 2 9 2 0 4 9 1 4 8 1 8 4 4 9 7 8 3 7 6 0 0 3 5 8\n",
      " 0 6 4 8 5 3 3 2 3 9 1 1 5 8 0 9 4 6 6 7 8 8 2 9 5 8 9 6 1 8 4 1 2 5 3 1 9\n",
      " 7 7 4 0 9 9 9 1 0 5 2 3 7 2 9 1 0 6 3]\n"
     ]
    }
   ],
   "source": [
    "# 0. 데이터 준비\n",
    "csv = pd.read_csv('C:/Users/user/Desktop/GIT/mnist/train_1K.csv')\n",
    "train_data =csv.iloc[:,1:].values\n",
    "train_data = list(map(changeValue, train_data))\n",
    "train_label = csv.iloc[:,0].values\n",
    "\n",
    "csv = pd.read_csv('C:/Users/user/Desktop/GIT/mnist/t10k_0.5K.csv')\n",
    "test_data =csv.iloc[:,1:].values\n",
    "test_data = list(map(changeValue, test_data))\n",
    "test_label = csv.iloc[:,0].values\n",
    "\n",
    "# 1. 알고리즘\n",
    "clf = svm.NuSVC(gamma=\"auto\")\n",
    "\n",
    "# 2. 훈련\n",
    "clf.fit(train_data, train_label)\n",
    "# 이번버전은 label에 문자를 안받았음 \n",
    "# predict에 0~1사이 값이 입력되어야한다.\n",
    "\n",
    "# 3. 검증\n",
    "result = clf.predict(test_data)\n",
    "score = metrics.accuracy_score(result, test_label)\n",
    "print(\"Acc: {0:.2f}%\".format(score*100))\n",
    "\n",
    "print(result)\n",
    "\n",
    "# # 사진확인\n",
    "# import matplotlib.pyplot as plt\n",
    "# import numpy as np\n",
    "# img = np.array(test_data[0]).reshape(28,28)\n",
    "# plt.imshow(img, cmap='gray')\n",
    "# plt.show()"
   ]
  },
  {
   "cell_type": "code",
   "execution_count": 129,
   "metadata": {},
   "outputs": [
    {
     "data": {
      "text/plain": [
       "SVC(C=1.0, cache_size=200, class_weight=None, coef0=0.0,\n",
       "  decision_function_shape='ovr', degree=3, gamma='auto', kernel='rbf',\n",
       "  max_iter=-1, probability=False, random_state=None, shrinking=True,\n",
       "  tol=0.001, verbose=False)"
      ]
     },
     "execution_count": 129,
     "metadata": {},
     "output_type": "execute_result"
    }
   ],
   "source": [
    "# V3. 데이터를 전처리해서 훈련하기\n",
    "# V2. MNIST CSV 불러오기\n",
    "from sklearn import svm, metrics\n",
    "from sklearn.model_selection import train_test_split\n",
    "import pandas as pd\n",
    "import math\n",
    "\n",
    "def changeValue(lst):\n",
    "    return [ math.ceil((float(v)-5) / 255) for v in lst] # 튜닝도 가능\n",
    "\n",
    "csv = pd.read_csv('C:/Users/user/Desktop/GIT/mnist/train_10K.csv')\n",
    "train_data =csv.iloc[:,1:].values\n",
    "train_data = list(map(changeValue, train_data))\n",
    "train_label = csv.iloc[:,0].values\n",
    "\n",
    "csv = pd.read_csv('C:/Users/user/Desktop/GIT/mnist/t10k_0.5K.csv')\n",
    "test_data =csv.iloc[:,1:].values\n",
    "test_data = list(map(changeValue, test_data))\n",
    "test_label = csv.iloc[:,0].values\n",
    "\n",
    "# 1. 알고리즘\n",
    "clf = svm.SVC(gamma=\"auto\")\n",
    "\n",
    "# 2. 훈련\n",
    "clf.fit(train_data, train_label)\n",
    "# 이번버전은 label에 문자를 안받았음 \n",
    "# predict에 0~1사이 값이 입력되어야한다.\n",
    "\n",
    "# 3. 검증\n",
    "result = clf.predict(test_data)\n",
    "score = metrics.accuracy_score(result, test_label)\n",
    "print(\"Acc: {0:.2f}%\".format(score*100))\n",
    "\n",
    "print(result)"
   ]
  },
  {
   "cell_type": "markdown",
   "metadata": {},
   "source": [
    "### 모델 저장"
   ]
  },
  {
   "cell_type": "code",
   "execution_count": 131,
   "metadata": {},
   "outputs": [
    {
     "name": "stdout",
     "output_type": "stream",
     "text": [
      "저장완료\n"
     ]
    }
   ],
   "source": [
    "import joblib\n",
    "joblib.dump(clf,'mnist_model_1K.dmp') # 파이썬에서만 사용 가능, 파일 통째로 저장. \n",
    "print(\"저장완료\")"
   ]
  },
  {
   "cell_type": "markdown",
   "metadata": {},
   "source": [
    "### 모델 로드"
   ]
  },
  {
   "cell_type": "code",
   "execution_count": 132,
   "metadata": {},
   "outputs": [
    {
     "name": "stdout",
     "output_type": "stream",
     "text": [
      "Acc: 93.40%\n",
      "[2 1 0 4 1 4 9 6 9 0 6 9 0 1 5 9 7 3 4 9 6 6 5 4 0 7 4 0 1 3 1 3 4 7 2 7 1\n",
      " 2 1 1 7 4 2 3 5 1 2 4 4 6 3 5 5 6 0 4 1 9 5 7 8 9 3 7 4 2 4 3 0 7 0 2 7 1\n",
      " 7 3 7 9 7 7 6 2 7 8 4 7 3 6 1 3 6 9 3 1 4 1 7 6 9 6 0 5 4 9 9 2 1 9 4 8 7\n",
      " 3 9 7 4 4 4 9 2 5 4 7 6 7 9 0 5 8 5 6 6 5 7 8 1 0 1 6 4 6 7 3 1 7 1 8 2 0\n",
      " 4 9 8 5 5 1 5 6 0 3 4 4 6 5 4 6 5 4 5 1 4 4 7 2 3 2 7 1 8 1 8 1 8 5 0 8 9\n",
      " 2 5 0 1 1 1 0 9 0 5 1 6 4 2 3 6 1 1 1 3 9 5 2 9 4 5 9 3 9 0 3 5 5 5 7 2 2\n",
      " 7 1 2 8 4 1 7 3 3 8 9 7 9 2 2 4 1 5 8 8 7 2 6 0 2 4 2 4 1 9 5 7 7 2 8 2 0\n",
      " 8 5 7 7 9 1 8 1 8 0 3 0 1 9 9 4 1 8 2 1 2 9 7 5 9 2 6 4 1 5 4 2 9 2 0 4 0\n",
      " 0 2 8 4 7 1 2 4 0 2 9 4 3 3 0 0 5 1 9 6 5 3 5 7 7 9 3 5 4 2 0 7 1 1 2 1 5\n",
      " 3 3 9 7 8 6 3 4 1 3 8 1 0 5 1 7 1 5 0 6 1 8 5 1 7 9 4 6 7 2 5 0 6 5 6 3 7\n",
      " 2 0 8 8 5 4 1 1 4 0 7 3 7 6 1 6 2 1 9 2 8 6 1 9 5 2 5 4 4 2 8 3 8 2 4 0 0\n",
      " 3 1 7 7 3 7 9 7 1 9 2 1 4 2 9 2 0 4 9 1 4 8 1 8 4 5 9 8 8 3 7 6 0 0 3 0 8\n",
      " 0 6 4 8 3 3 3 2 3 9 1 2 6 8 0 5 6 6 6 3 8 8 2 2 5 8 9 6 1 8 4 1 2 5 3 1 9\n",
      " 7 5 4 0 8 9 9 1 0 5 2 3 7 8 9 4 0 6 3]\n"
     ]
    }
   ],
   "source": [
    "# V3. 데이터를 전처리해서 훈련하기\n",
    "# V2. MNIST CSV 불러오기\n",
    "from sklearn import svm, metrics\n",
    "from sklearn.model_selection import train_test_split\n",
    "import pandas as pd\n",
    "import math\n",
    "\n",
    "def changeValue(lst):\n",
    "    return [ math.ceil((float(v)-5) / 255) for v in lst] # 튜닝도 가능\n",
    "\n",
    "# csv = pd.read_csv('C:/Users/user/Desktop/GIT/mnist/train_10K.csv')\n",
    "# train_data =csv.iloc[:,1:].values\n",
    "# train_data = list(map(changeValue, train_data))\n",
    "# train_label = csv.iloc[:,0].values\n",
    "\n",
    "\n",
    "csv = pd.read_csv('C:/Users/user/Desktop/GIT/mnist/t10k_0.5K.csv')\n",
    "test_data =csv.iloc[:,1:].values\n",
    "test_data = list(map(changeValue, test_data))\n",
    "test_label = csv.iloc[:,0].values\n",
    "\n",
    "# 1. 알고리즘\n",
    "# clf = svm.SVC(gamma=\"auto\")\n",
    "clf = joblib.load('mnist_model_1K.dmp')\n",
    "\n",
    "# 2. 훈련\n",
    "# clf.fit(train_data, train_label)\n",
    "# 이번버전은 label에 문자를 안받았음 \n",
    "# predict에 0~1사이 값이 입력되어야한다.\n",
    "\n",
    "# 3. 검증\n",
    "result = clf.predict(test_data)\n",
    "score = metrics.accuracy_score(result, test_label)\n",
    "print(\"Acc: {0:.2f}%\".format(score*100))\n",
    "\n",
    "print(result)"
   ]
  },
  {
   "cell_type": "markdown",
   "metadata": {},
   "source": [
    "## GUI 활용 "
   ]
  },
  {
   "cell_type": "code",
   "execution_count": 154,
   "metadata": {},
   "outputs": [],
   "source": [
    "from tkinter import *\n",
    "from tkinter.simpledialog import *\n",
    "from tkinter.filedialog import *\n",
    "import math\n",
    "import os\n",
    "import os.path\n",
    "from PIL import Image, ImageFilter, ImageEnhance, ImageOps\n",
    "import time\n",
    "import matplotlib.pyplot as plt\n",
    "import numpy as np\n",
    "from sklearn import svm, metrics\n",
    "from sklearn.model_selection import train_test_split\n",
    "import pandas as pd\n",
    "import math\n",
    "import joblib\n",
    "\n",
    "\n",
    "def changeValue(lst):\n",
    "    return [ math.ceil((float(v)-5) / 255) for v in lst] # 튜닝도 가능\n",
    "\n",
    "def studyCSV():\n",
    "    global csv, train_data, train_labe, test_data, test_label, clf\n",
    "    global inImage, outImage, inH, inW, outH, outW, window, canvas, paper\n",
    "    \n",
    "    # 훈련용 csv파일 불러오기 (mnist)\n",
    "    filename = askopenfilename(parent=window,\n",
    "                               filetypes=((\"csv 파일\", \"*.csv\"), (\"모든 파일\", \"*.*\")))\n",
    "    if filename == '' or filename == None:\n",
    "        return\n",
    "    \n",
    "    csv = pd.read_csv(filename)\n",
    "    train_data =csv.iloc[:,1:].values\n",
    "    train_data = list(map(changeValue, train_data))\n",
    "    train_label = csv.iloc[:,0].values\n",
    "\n",
    "    # 훈련\n",
    "    clf = svm.SVC(gamma=\"auto\")\n",
    "    clf.fit(train_data, train_label)\n",
    "    \n",
    "    status.configure(text=\"훈련성공\")\n",
    "    \n",
    "def loadDump():\n",
    "    global csv, train_data, train_labe, test_data, test_label, clf\n",
    "    global inImage, outImage, inH, inW, outH, outW, window, canvas, paper\n",
    "    filename = askopenfilename(parent=window,\n",
    "                               filetypes=((\"dmp 파일\", \"*.dmp\"), (\"모든 파일\", \"*.*\")))\n",
    "    if filename == '' or filename == None:\n",
    "        return\n",
    "    \n",
    "    clf = joblib.load(filename)\n",
    "    print(filename)\n",
    "\n",
    "def saveDump():\n",
    "    global csv, train_data, train_labe, test_data, test_label, clf\n",
    "    global inImage, outImage, inH, inW, outH, outW, window, canvas, paper\n",
    "    saveFp = asksaveasfile(parent = window, mode='wb', defaultextension='.', filetypes=((\"dmp 파일\", \"*.dmp\"),(\"모든파일\", \"*.*\")))\n",
    "    if saveFp == \"\" or saveFp == None:\n",
    "        return\n",
    "    joblib.dump(clf,saveFp)\n",
    "    status.configure(text=\"저장성공\")\n",
    "    \n",
    "def testScore():\n",
    "    global csv, train_data, train_labe, test_data, test_label, clf\n",
    "    global inImage, outImage, inH, inW, outH, outW, window, canvas, paper\n",
    "    \n",
    "    filename = askopenfilename(parent=window,\n",
    "                               filetypes=((\"csv 파일\", \"*.csv\"), (\"모든 파일\", \"*.*\")))\n",
    "    if filename == '' or filename == None:\n",
    "        return\n",
    "    \n",
    "    csv = pd.read_csv(filename)\n",
    "    test_data = csv.iloc[:,1:].values\n",
    "    test_data = list(map(changeValue, test_data))\n",
    "    test_label = csv.iloc[:,0].values    \n",
    "    \n",
    "    result = clf.predict(test_data)\n",
    "    score = metrics.accuracy_score(result, test_label)\n",
    "    status.configure(text=\"정답률{0:.2f}%\".format(score*100))\n",
    "\n",
    "def predictMouse():\n",
    "    global csv, train_data, train_labe, test_data, test_label, clf\n",
    "    global inImage, outImage, inH, inW, outH, outW, window, canvas, paper\n",
    "    if clf == None:\n",
    "        status.configure(text='모델부터 생성')    \n",
    "    \n",
    "    VIEW_X, VIEW_Y = 280, 280\n",
    "    canvas = Canvas(window, height=VIEW_X, width = VIEW_Y, bg='black')\n",
    "    paper = PhotoImage(height=VIEW_X, width=VIEW_Y)\n",
    "    canvas.create_image((VIEW_Y//2, VIEW_X//2), image=paper, state='normal')\n",
    "    \n",
    "    canvas.pack(expand=1, anchor=CENTER)\n",
    "    status.configure(text='')\n",
    "    \n",
    "    # 마우스 이벤트\n",
    "    canvas.bind('<Button-3>', rightMouseClick)\n",
    "    canvas.bind('<Button-2>', midMouseClick) \n",
    "    canvas.bind('<Button-1>', leftMouseClick) \n",
    "    canvas.bind('<B1-Motion>', leftMouseMove) \n",
    "    canvas.bind('<ButtonRelease-1>', leftMouseDrop) \n",
    "    canvas.configure(cursor='mouse')\n",
    "    \n",
    "def rightMouseClick(event):\n",
    "    global csv, train_data, train_labe, test_data, test_label, clf\n",
    "    global inImage, outImage, inH, inW, outH, outW, window, canvas, paper\n",
    "    global leftMousePressYN\n",
    "    inImage = malloc(280,280)\n",
    "    # paper --> inImage로 가져오기\n",
    "    for i in range(280):\n",
    "        for k in range(280):\n",
    "            pixel = paper.get(k,i) # return (r, g, b)\n",
    "            if pixel[0] == 0 :\n",
    "                inImage[i][k] = 0\n",
    "            else:\n",
    "                inImage[i][k] = 1\n",
    "    # 280 -> 28 축소\n",
    "    outImage = []\n",
    "    outImage = malloc(28,28)\n",
    "    scale = 10\n",
    "    for i in range(28):\n",
    "        for k in range(28):\n",
    "            outImage[i][k] = inImage[i * scale][k * scale]\n",
    "    # 2차원 -> 1차원\n",
    "    my_data = []\n",
    "    for i in range(28):\n",
    "        for k in range(28):\n",
    "            my_data.append(outImage[i][k])\n",
    "    # 예측하기 \n",
    "    result = clf.predict([my_data])\n",
    "    status.configure(text=str(result[0]))\n",
    "\n",
    "    \n",
    "def malloc(h, w, initValue=0):\n",
    "    retMemory = np.array([[initValue]*w]*h)\n",
    "    return retMemory\n",
    "    \n",
    "def midMouseClick(event):\n",
    "    global csv, train_data, train_labe, test_data, test_label, clf\n",
    "    global inImage, outImage, inH, inW, outH, outW, window, canvas, paper\n",
    "    global leftMousePressYN\n",
    "    outH, outW = 280, 280\n",
    "    step = 1\n",
    "    rgbStr = ''\n",
    "    for i in np.arange(0, outH, step):\n",
    "        tmpStr = ''\n",
    "        for k in np.arange(0, outW, step):\n",
    "            i = int(i);\n",
    "            k = int(k)\n",
    "            r, g, b = 0,0,0\n",
    "            tmpStr += ' #%02x%02x%02x' % (r, g, b)\n",
    "        rgbStr += '{' + tmpStr + '} '\n",
    "    paper.put(rgbStr)\n",
    "\n",
    "leftMousePressYN = False # 마우스 눌린상태 확인을 위한 플래그\n",
    "def leftMouseClick(event): \n",
    "    global leftMousePressYN\n",
    "    leftMousePressYN = True\n",
    "    \n",
    "def leftMouseMove(event):\n",
    "    global csv, train_data, train_labe, test_data, test_label, clf\n",
    "    global inImage, outImage, inH, inW, outH, outW, window, canvas, paper\n",
    "    global leftMousePressYN\n",
    "    if leftMousePressYN == False:\n",
    "        return\n",
    "    x = event.x\n",
    "    y = event.y\n",
    "    # 주위 40x40개를 찍는다.\n",
    "    for i in range(-22, 22, 1):\n",
    "        for k in range(-22, 22, 1):\n",
    "            if 0 <= x+i < 280 and 0 <= y+k < 280:\n",
    "                paper.put(\"#%02x%02x%02x\" % (255,255,255), (x+i, y+k))\n",
    "            \n",
    "    \n",
    "\n",
    "def leftMouseDrop(event):\n",
    "    global leftMousePressYN\n",
    "    leftMousePressYN = False\n",
    "\n",
    "####################\n",
    "#### 전역변수 선언부 ####\n",
    "####################\n",
    "R, G, B = 0, 1, 2\n",
    "inImage, outImage = [], []  # 3차원 리스트(배열)\n",
    "inH, inW, outH, outW = [0] * 4\n",
    "window, canvas, paper = None, None, None\n",
    "filename = \"\"\n",
    "VIEW_X, VIEW_Y = 512, 512  # 화면에 보일 크기 (출력용)\n",
    "## ML관련 전역변수\n",
    "csv, train_data, train_labe, test_data, test_label, clf = [None]*6\n",
    "\n",
    "\n",
    "\n",
    "####################\n",
    "#### 메인 코드부 ####\n",
    "####################\n",
    "window = Tk()\n",
    "window.geometry(\"500x500\")\n",
    "window.title(\"머신러닝 툴 (mnist) ver 2.0\")\n",
    "\n",
    "status = Label(window, text='필요할때 써먹기', bd=1, relief=SUNKEN, anchor=W)\n",
    "status.pack(side=BOTTOM, fill=X)\n",
    "\n",
    "\n",
    "## 마우스 이벤트\n",
    "\n",
    "mainMenu = Menu(window)\n",
    "window.config(menu=mainMenu)\n",
    "\n",
    "fileMenu = Menu(mainMenu)\n",
    "mainMenu.add_cascade(label=\"학습시키기\", menu=fileMenu)    \n",
    "fileMenu.add_command(label=\"CSV 파일로 새로학습\", command=studyCSV)                    \n",
    "fileMenu.add_separator()\n",
    "fileMenu.add_command(label=\"학습된 모델 가져오기\", command=loadDump)\n",
    "fileMenu.add_command(label=\"정확도 확인하기\", command=testScore)\n",
    "fileMenu.add_command(label=\"학습된 모델 저장하기\", command=saveDump)\n",
    "\n",
    "predictMenu = Menu(mainMenu)\n",
    "mainMenu.add_cascade(label=\"예측하기\", menu=predictMenu)\n",
    "predictMenu.add_command(label=\"그림 파일 불러오기\", command=None)\n",
    "predictMenu.add_command(label=\"마우스로 그리기\", command=predictMouse)\n",
    "#comVisionMenu1.add_command(label=\"반전하기\", command=revImageColor)\n",
    "#comVisionMenu1.add_command(label=\"파라볼라\", command=paraImageColor)\n",
    "#comVisionMenu1.add_separator()\n",
    "window.mainloop()"
   ]
  },
  {
   "cell_type": "markdown",
   "metadata": {},
   "source": [
    "# 2. Pandas\n",
    "### 중요 용어 2가지\n",
    "- DataFrame : 한개의 Table\n",
    "- Series : 한개의 column"
   ]
  },
  {
   "cell_type": "code",
   "execution_count": 8,
   "metadata": {},
   "outputs": [],
   "source": [
    "import pandas as pd"
   ]
  },
  {
   "cell_type": "code",
   "execution_count": 45,
   "metadata": {},
   "outputs": [
    {
     "ename": "TypeError",
     "evalue": "cannot do slice indexing on <class 'pandas.core.indexes.base.Index'> with these indexers [0] of <class 'int'>",
     "output_type": "error",
     "traceback": [
      "\u001b[1;31m---------------------------------------------------------------------------\u001b[0m",
      "\u001b[1;31mTypeError\u001b[0m                                 Traceback (most recent call last)",
      "\u001b[1;32m<ipython-input-45-40b1c0841899>\u001b[0m in \u001b[0;36m<module>\u001b[1;34m\u001b[0m\n\u001b[0;32m     11\u001b[0m \u001b[1;31m#df.loc[2:5:1] # 여러개 - slicing\u001b[0m\u001b[1;33m\u001b[0m\u001b[1;33m\u001b[0m\u001b[1;33m\u001b[0m\u001b[0m\n\u001b[0;32m     12\u001b[0m \u001b[0mdf\u001b[0m\u001b[1;33m.\u001b[0m\u001b[0miloc\u001b[0m\u001b[1;33m[\u001b[0m\u001b[1;33m:\u001b[0m\u001b[1;33m,\u001b[0m\u001b[1;36m0\u001b[0m\u001b[1;33m:\u001b[0m\u001b[1;33m-\u001b[0m\u001b[1;36m1\u001b[0m\u001b[1;33m]\u001b[0m\u001b[1;33m\u001b[0m\u001b[1;33m\u001b[0m\u001b[0m\n\u001b[1;32m---> 13\u001b[1;33m \u001b[0mdf\u001b[0m\u001b[1;33m.\u001b[0m\u001b[0mloc\u001b[0m\u001b[1;33m[\u001b[0m\u001b[1;33m:\u001b[0m\u001b[1;33m,\u001b[0m\u001b[1;36m0\u001b[0m\u001b[1;33m:\u001b[0m\u001b[1;33m]\u001b[0m\u001b[1;33m\u001b[0m\u001b[1;33m\u001b[0m\u001b[0m\n\u001b[0m\u001b[0;32m     14\u001b[0m \u001b[1;33m\u001b[0m\u001b[0m\n\u001b[0;32m     15\u001b[0m \u001b[1;31m# Group_by\u001b[0m\u001b[1;33m\u001b[0m\u001b[1;33m\u001b[0m\u001b[1;33m\u001b[0m\u001b[0m\n",
      "\u001b[1;32mC:\\ProgramData\\Anaconda3\\lib\\site-packages\\pandas\\core\\indexing.py\u001b[0m in \u001b[0;36m__getitem__\u001b[1;34m(self, key)\u001b[0m\n\u001b[0;32m   1492\u001b[0m             \u001b[1;32mexcept\u001b[0m \u001b[1;33m(\u001b[0m\u001b[0mKeyError\u001b[0m\u001b[1;33m,\u001b[0m \u001b[0mIndexError\u001b[0m\u001b[1;33m,\u001b[0m \u001b[0mAttributeError\u001b[0m\u001b[1;33m)\u001b[0m\u001b[1;33m:\u001b[0m\u001b[1;33m\u001b[0m\u001b[1;33m\u001b[0m\u001b[0m\n\u001b[0;32m   1493\u001b[0m                 \u001b[1;32mpass\u001b[0m\u001b[1;33m\u001b[0m\u001b[1;33m\u001b[0m\u001b[0m\n\u001b[1;32m-> 1494\u001b[1;33m             \u001b[1;32mreturn\u001b[0m \u001b[0mself\u001b[0m\u001b[1;33m.\u001b[0m\u001b[0m_getitem_tuple\u001b[0m\u001b[1;33m(\u001b[0m\u001b[0mkey\u001b[0m\u001b[1;33m)\u001b[0m\u001b[1;33m\u001b[0m\u001b[1;33m\u001b[0m\u001b[0m\n\u001b[0m\u001b[0;32m   1495\u001b[0m         \u001b[1;32melse\u001b[0m\u001b[1;33m:\u001b[0m\u001b[1;33m\u001b[0m\u001b[1;33m\u001b[0m\u001b[0m\n\u001b[0;32m   1496\u001b[0m             \u001b[1;31m# we by definition only have the 0th axis\u001b[0m\u001b[1;33m\u001b[0m\u001b[1;33m\u001b[0m\u001b[1;33m\u001b[0m\u001b[0m\n",
      "\u001b[1;32mC:\\ProgramData\\Anaconda3\\lib\\site-packages\\pandas\\core\\indexing.py\u001b[0m in \u001b[0;36m_getitem_tuple\u001b[1;34m(self, tup)\u001b[0m\n\u001b[0;32m    886\u001b[0m                 \u001b[1;32mcontinue\u001b[0m\u001b[1;33m\u001b[0m\u001b[1;33m\u001b[0m\u001b[0m\n\u001b[0;32m    887\u001b[0m \u001b[1;33m\u001b[0m\u001b[0m\n\u001b[1;32m--> 888\u001b[1;33m             \u001b[0mretval\u001b[0m \u001b[1;33m=\u001b[0m \u001b[0mgetattr\u001b[0m\u001b[1;33m(\u001b[0m\u001b[0mretval\u001b[0m\u001b[1;33m,\u001b[0m \u001b[0mself\u001b[0m\u001b[1;33m.\u001b[0m\u001b[0mname\u001b[0m\u001b[1;33m)\u001b[0m\u001b[1;33m.\u001b[0m\u001b[0m_getitem_axis\u001b[0m\u001b[1;33m(\u001b[0m\u001b[0mkey\u001b[0m\u001b[1;33m,\u001b[0m \u001b[0maxis\u001b[0m\u001b[1;33m=\u001b[0m\u001b[0mi\u001b[0m\u001b[1;33m)\u001b[0m\u001b[1;33m\u001b[0m\u001b[1;33m\u001b[0m\u001b[0m\n\u001b[0m\u001b[0;32m    889\u001b[0m \u001b[1;33m\u001b[0m\u001b[0m\n\u001b[0;32m    890\u001b[0m         \u001b[1;32mreturn\u001b[0m \u001b[0mretval\u001b[0m\u001b[1;33m\u001b[0m\u001b[1;33m\u001b[0m\u001b[0m\n",
      "\u001b[1;32mC:\\ProgramData\\Anaconda3\\lib\\site-packages\\pandas\\core\\indexing.py\u001b[0m in \u001b[0;36m_getitem_axis\u001b[1;34m(self, key, axis)\u001b[0m\n\u001b[0;32m   1865\u001b[0m         \u001b[1;32mif\u001b[0m \u001b[0misinstance\u001b[0m\u001b[1;33m(\u001b[0m\u001b[0mkey\u001b[0m\u001b[1;33m,\u001b[0m \u001b[0mslice\u001b[0m\u001b[1;33m)\u001b[0m\u001b[1;33m:\u001b[0m\u001b[1;33m\u001b[0m\u001b[1;33m\u001b[0m\u001b[0m\n\u001b[0;32m   1866\u001b[0m             \u001b[0mself\u001b[0m\u001b[1;33m.\u001b[0m\u001b[0m_validate_key\u001b[0m\u001b[1;33m(\u001b[0m\u001b[0mkey\u001b[0m\u001b[1;33m,\u001b[0m \u001b[0maxis\u001b[0m\u001b[1;33m)\u001b[0m\u001b[1;33m\u001b[0m\u001b[1;33m\u001b[0m\u001b[0m\n\u001b[1;32m-> 1867\u001b[1;33m             \u001b[1;32mreturn\u001b[0m \u001b[0mself\u001b[0m\u001b[1;33m.\u001b[0m\u001b[0m_get_slice_axis\u001b[0m\u001b[1;33m(\u001b[0m\u001b[0mkey\u001b[0m\u001b[1;33m,\u001b[0m \u001b[0maxis\u001b[0m\u001b[1;33m=\u001b[0m\u001b[0maxis\u001b[0m\u001b[1;33m)\u001b[0m\u001b[1;33m\u001b[0m\u001b[1;33m\u001b[0m\u001b[0m\n\u001b[0m\u001b[0;32m   1868\u001b[0m         \u001b[1;32melif\u001b[0m \u001b[0mcom\u001b[0m\u001b[1;33m.\u001b[0m\u001b[0mis_bool_indexer\u001b[0m\u001b[1;33m(\u001b[0m\u001b[0mkey\u001b[0m\u001b[1;33m)\u001b[0m\u001b[1;33m:\u001b[0m\u001b[1;33m\u001b[0m\u001b[1;33m\u001b[0m\u001b[0m\n\u001b[0;32m   1869\u001b[0m             \u001b[1;32mreturn\u001b[0m \u001b[0mself\u001b[0m\u001b[1;33m.\u001b[0m\u001b[0m_getbool_axis\u001b[0m\u001b[1;33m(\u001b[0m\u001b[0mkey\u001b[0m\u001b[1;33m,\u001b[0m \u001b[0maxis\u001b[0m\u001b[1;33m=\u001b[0m\u001b[0maxis\u001b[0m\u001b[1;33m)\u001b[0m\u001b[1;33m\u001b[0m\u001b[1;33m\u001b[0m\u001b[0m\n",
      "\u001b[1;32mC:\\ProgramData\\Anaconda3\\lib\\site-packages\\pandas\\core\\indexing.py\u001b[0m in \u001b[0;36m_get_slice_axis\u001b[1;34m(self, slice_obj, axis)\u001b[0m\n\u001b[0;32m   1531\u001b[0m         \u001b[0mlabels\u001b[0m \u001b[1;33m=\u001b[0m \u001b[0mobj\u001b[0m\u001b[1;33m.\u001b[0m\u001b[0m_get_axis\u001b[0m\u001b[1;33m(\u001b[0m\u001b[0maxis\u001b[0m\u001b[1;33m)\u001b[0m\u001b[1;33m\u001b[0m\u001b[1;33m\u001b[0m\u001b[0m\n\u001b[0;32m   1532\u001b[0m         indexer = labels.slice_indexer(slice_obj.start, slice_obj.stop,\n\u001b[1;32m-> 1533\u001b[1;33m                                        slice_obj.step, kind=self.name)\n\u001b[0m\u001b[0;32m   1534\u001b[0m \u001b[1;33m\u001b[0m\u001b[0m\n\u001b[0;32m   1535\u001b[0m         \u001b[1;32mif\u001b[0m \u001b[0misinstance\u001b[0m\u001b[1;33m(\u001b[0m\u001b[0mindexer\u001b[0m\u001b[1;33m,\u001b[0m \u001b[0mslice\u001b[0m\u001b[1;33m)\u001b[0m\u001b[1;33m:\u001b[0m\u001b[1;33m\u001b[0m\u001b[1;33m\u001b[0m\u001b[0m\n",
      "\u001b[1;32mC:\\ProgramData\\Anaconda3\\lib\\site-packages\\pandas\\core\\indexes\\base.py\u001b[0m in \u001b[0;36mslice_indexer\u001b[1;34m(self, start, end, step, kind)\u001b[0m\n\u001b[0;32m   4671\u001b[0m         \"\"\"\n\u001b[0;32m   4672\u001b[0m         start_slice, end_slice = self.slice_locs(start, end, step=step,\n\u001b[1;32m-> 4673\u001b[1;33m                                                  kind=kind)\n\u001b[0m\u001b[0;32m   4674\u001b[0m \u001b[1;33m\u001b[0m\u001b[0m\n\u001b[0;32m   4675\u001b[0m         \u001b[1;31m# return a slice\u001b[0m\u001b[1;33m\u001b[0m\u001b[1;33m\u001b[0m\u001b[1;33m\u001b[0m\u001b[0m\n",
      "\u001b[1;32mC:\\ProgramData\\Anaconda3\\lib\\site-packages\\pandas\\core\\indexes\\base.py\u001b[0m in \u001b[0;36mslice_locs\u001b[1;34m(self, start, end, step, kind)\u001b[0m\n\u001b[0;32m   4870\u001b[0m         \u001b[0mstart_slice\u001b[0m \u001b[1;33m=\u001b[0m \u001b[1;32mNone\u001b[0m\u001b[1;33m\u001b[0m\u001b[1;33m\u001b[0m\u001b[0m\n\u001b[0;32m   4871\u001b[0m         \u001b[1;32mif\u001b[0m \u001b[0mstart\u001b[0m \u001b[1;32mis\u001b[0m \u001b[1;32mnot\u001b[0m \u001b[1;32mNone\u001b[0m\u001b[1;33m:\u001b[0m\u001b[1;33m\u001b[0m\u001b[1;33m\u001b[0m\u001b[0m\n\u001b[1;32m-> 4872\u001b[1;33m             \u001b[0mstart_slice\u001b[0m \u001b[1;33m=\u001b[0m \u001b[0mself\u001b[0m\u001b[1;33m.\u001b[0m\u001b[0mget_slice_bound\u001b[0m\u001b[1;33m(\u001b[0m\u001b[0mstart\u001b[0m\u001b[1;33m,\u001b[0m \u001b[1;34m'left'\u001b[0m\u001b[1;33m,\u001b[0m \u001b[0mkind\u001b[0m\u001b[1;33m)\u001b[0m\u001b[1;33m\u001b[0m\u001b[1;33m\u001b[0m\u001b[0m\n\u001b[0m\u001b[0;32m   4873\u001b[0m         \u001b[1;32mif\u001b[0m \u001b[0mstart_slice\u001b[0m \u001b[1;32mis\u001b[0m \u001b[1;32mNone\u001b[0m\u001b[1;33m:\u001b[0m\u001b[1;33m\u001b[0m\u001b[1;33m\u001b[0m\u001b[0m\n\u001b[0;32m   4874\u001b[0m             \u001b[0mstart_slice\u001b[0m \u001b[1;33m=\u001b[0m \u001b[1;36m0\u001b[0m\u001b[1;33m\u001b[0m\u001b[1;33m\u001b[0m\u001b[0m\n",
      "\u001b[1;32mC:\\ProgramData\\Anaconda3\\lib\\site-packages\\pandas\\core\\indexes\\base.py\u001b[0m in \u001b[0;36mget_slice_bound\u001b[1;34m(self, label, side, kind)\u001b[0m\n\u001b[0;32m   4796\u001b[0m         \u001b[1;31m# For datetime indices label may be a string that has to be converted\u001b[0m\u001b[1;33m\u001b[0m\u001b[1;33m\u001b[0m\u001b[1;33m\u001b[0m\u001b[0m\n\u001b[0;32m   4797\u001b[0m         \u001b[1;31m# to datetime boundary according to its resolution.\u001b[0m\u001b[1;33m\u001b[0m\u001b[1;33m\u001b[0m\u001b[1;33m\u001b[0m\u001b[0m\n\u001b[1;32m-> 4798\u001b[1;33m         \u001b[0mlabel\u001b[0m \u001b[1;33m=\u001b[0m \u001b[0mself\u001b[0m\u001b[1;33m.\u001b[0m\u001b[0m_maybe_cast_slice_bound\u001b[0m\u001b[1;33m(\u001b[0m\u001b[0mlabel\u001b[0m\u001b[1;33m,\u001b[0m \u001b[0mside\u001b[0m\u001b[1;33m,\u001b[0m \u001b[0mkind\u001b[0m\u001b[1;33m)\u001b[0m\u001b[1;33m\u001b[0m\u001b[1;33m\u001b[0m\u001b[0m\n\u001b[0m\u001b[0;32m   4799\u001b[0m \u001b[1;33m\u001b[0m\u001b[0m\n\u001b[0;32m   4800\u001b[0m         \u001b[1;31m# we need to look up the label\u001b[0m\u001b[1;33m\u001b[0m\u001b[1;33m\u001b[0m\u001b[1;33m\u001b[0m\u001b[0m\n",
      "\u001b[1;32mC:\\ProgramData\\Anaconda3\\lib\\site-packages\\pandas\\core\\indexes\\base.py\u001b[0m in \u001b[0;36m_maybe_cast_slice_bound\u001b[1;34m(self, label, side, kind)\u001b[0m\n\u001b[0;32m   4748\u001b[0m         \u001b[1;31m# this is rejected (generally .loc gets you here)\u001b[0m\u001b[1;33m\u001b[0m\u001b[1;33m\u001b[0m\u001b[1;33m\u001b[0m\u001b[0m\n\u001b[0;32m   4749\u001b[0m         \u001b[1;32melif\u001b[0m \u001b[0mis_integer\u001b[0m\u001b[1;33m(\u001b[0m\u001b[0mlabel\u001b[0m\u001b[1;33m)\u001b[0m\u001b[1;33m:\u001b[0m\u001b[1;33m\u001b[0m\u001b[1;33m\u001b[0m\u001b[0m\n\u001b[1;32m-> 4750\u001b[1;33m             \u001b[0mself\u001b[0m\u001b[1;33m.\u001b[0m\u001b[0m_invalid_indexer\u001b[0m\u001b[1;33m(\u001b[0m\u001b[1;34m'slice'\u001b[0m\u001b[1;33m,\u001b[0m \u001b[0mlabel\u001b[0m\u001b[1;33m)\u001b[0m\u001b[1;33m\u001b[0m\u001b[1;33m\u001b[0m\u001b[0m\n\u001b[0m\u001b[0;32m   4751\u001b[0m \u001b[1;33m\u001b[0m\u001b[0m\n\u001b[0;32m   4752\u001b[0m         \u001b[1;32mreturn\u001b[0m \u001b[0mlabel\u001b[0m\u001b[1;33m\u001b[0m\u001b[1;33m\u001b[0m\u001b[0m\n",
      "\u001b[1;32mC:\\ProgramData\\Anaconda3\\lib\\site-packages\\pandas\\core\\indexes\\base.py\u001b[0m in \u001b[0;36m_invalid_indexer\u001b[1;34m(self, form, key)\u001b[0m\n\u001b[0;32m   3065\u001b[0m                         \"indexers [{key}] of {kind}\".format(\n\u001b[0;32m   3066\u001b[0m                             \u001b[0mform\u001b[0m\u001b[1;33m=\u001b[0m\u001b[0mform\u001b[0m\u001b[1;33m,\u001b[0m \u001b[0mklass\u001b[0m\u001b[1;33m=\u001b[0m\u001b[0mtype\u001b[0m\u001b[1;33m(\u001b[0m\u001b[0mself\u001b[0m\u001b[1;33m)\u001b[0m\u001b[1;33m,\u001b[0m \u001b[0mkey\u001b[0m\u001b[1;33m=\u001b[0m\u001b[0mkey\u001b[0m\u001b[1;33m,\u001b[0m\u001b[1;33m\u001b[0m\u001b[1;33m\u001b[0m\u001b[0m\n\u001b[1;32m-> 3067\u001b[1;33m                             kind=type(key)))\n\u001b[0m\u001b[0;32m   3068\u001b[0m \u001b[1;33m\u001b[0m\u001b[0m\n\u001b[0;32m   3069\u001b[0m     \u001b[1;31m# --------------------------------------------------------------------\u001b[0m\u001b[1;33m\u001b[0m\u001b[1;33m\u001b[0m\u001b[1;33m\u001b[0m\u001b[0m\n",
      "\u001b[1;31mTypeError\u001b[0m: cannot do slice indexing on <class 'pandas.core.indexes.base.Index'> with these indexers [0] of <class 'int'>"
     ]
    }
   ],
   "source": [
    "df = pd.read_csv(\"C:/BigData/00Data1/csv/01_data.csv\")\n",
    "\n",
    "# Column 참조\n",
    "#print(df.Name, type(df.Name))\n",
    "#df.Name == df['Name'] # SELECT * FROM TABLE과 같다.\n",
    "#df[ ['Name', 'Country'] ] # 2개 이상은 데이터프레임, 1개는 시리즈\n",
    "\n",
    "# Row 참조\n",
    "#df.loc[0] # 한개 - index\n",
    "#df.loc[[0,3]] # 여러개 - index\n",
    "#df.loc[2:5:1] # 여러개 - slicing\n",
    "df.iloc[:,0:-1]\n",
    "df.loc[:,0:]\n",
    "\n",
    "# Group_by\n",
    "#df.groupby('Country')['Age'].mean()"
   ]
  },
  {
   "cell_type": "code",
   "execution_count": 38,
   "metadata": {
    "scrolled": true
   },
   "outputs": [],
   "source": []
  },
  {
   "cell_type": "code",
   "execution_count": 39,
   "metadata": {},
   "outputs": [],
   "source": [
    "#df"
   ]
  },
  {
   "cell_type": "code",
   "execution_count": 40,
   "metadata": {},
   "outputs": [],
   "source": [
    "\n"
   ]
  },
  {
   "cell_type": "code",
   "execution_count": 41,
   "metadata": {},
   "outputs": [],
   "source": []
  },
  {
   "cell_type": "code",
   "execution_count": null,
   "metadata": {},
   "outputs": [],
   "source": []
  },
  {
   "cell_type": "code",
   "execution_count": null,
   "metadata": {},
   "outputs": [],
   "source": []
  },
  {
   "cell_type": "code",
   "execution_count": null,
   "metadata": {},
   "outputs": [],
   "source": []
  },
  {
   "cell_type": "code",
   "execution_count": null,
   "metadata": {},
   "outputs": [],
   "source": []
  },
  {
   "cell_type": "code",
   "execution_count": null,
   "metadata": {},
   "outputs": [],
   "source": []
  },
  {
   "cell_type": "code",
   "execution_count": null,
   "metadata": {},
   "outputs": [],
   "source": []
  },
  {
   "cell_type": "code",
   "execution_count": null,
   "metadata": {},
   "outputs": [],
   "source": []
  },
  {
   "cell_type": "code",
   "execution_count": null,
   "metadata": {},
   "outputs": [],
   "source": []
  },
  {
   "cell_type": "code",
   "execution_count": null,
   "metadata": {},
   "outputs": [],
   "source": []
  },
  {
   "cell_type": "code",
   "execution_count": null,
   "metadata": {},
   "outputs": [],
   "source": []
  },
  {
   "cell_type": "code",
   "execution_count": null,
   "metadata": {},
   "outputs": [],
   "source": []
  }
 ],
 "metadata": {
  "kernelspec": {
   "display_name": "Python 3",
   "language": "python",
   "name": "python3"
  },
  "language_info": {
   "codemirror_mode": {
    "name": "ipython",
    "version": 3
   },
   "file_extension": ".py",
   "mimetype": "text/x-python",
   "name": "python",
   "nbconvert_exporter": "python",
   "pygments_lexer": "ipython3",
   "version": "3.7.3"
  }
 },
 "nbformat": 4,
 "nbformat_minor": 2
}
